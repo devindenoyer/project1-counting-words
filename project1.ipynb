{
 "cells": [
  {
   "cell_type": "markdown",
   "metadata": {},
   "source": [
    "# Project 1: Counting words in college subreddits"
   ]
  },
  {
   "cell_type": "markdown",
   "metadata": {},
   "source": [
    "Due 9/16. Reminder that you are allowed to use any amount of AI assistance or outside resources with citation"
   ]
  },
  {
   "cell_type": "markdown",
   "metadata": {},
   "source": [
    "## Part 1: word counting and bag of words"
   ]
  },
  {
   "cell_type": "code",
   "execution_count": 54,
   "metadata": {},
   "outputs": [
    {
     "name": "stdout",
     "output_type": "stream",
     "text": [
      "Requirement already satisfied: spacy in c:\\users\\denoyer2\\anaconda\\envs\\is310\\lib\\site-packages (3.8.3)\n",
      "Requirement already satisfied: spacy-legacy<3.1.0,>=3.0.11 in c:\\users\\denoyer2\\anaconda\\envs\\is310\\lib\\site-packages (from spacy) (3.0.12)\n",
      "Requirement already satisfied: spacy-loggers<2.0.0,>=1.0.0 in c:\\users\\denoyer2\\anaconda\\envs\\is310\\lib\\site-packages (from spacy) (1.0.5)\n",
      "Requirement already satisfied: murmurhash<1.1.0,>=0.28.0 in c:\\users\\denoyer2\\anaconda\\envs\\is310\\lib\\site-packages (from spacy) (1.0.12)\n",
      "Requirement already satisfied: cymem<2.1.0,>=2.0.2 in c:\\users\\denoyer2\\anaconda\\envs\\is310\\lib\\site-packages (from spacy) (2.0.11)\n",
      "Requirement already satisfied: preshed<3.1.0,>=3.0.2 in c:\\users\\denoyer2\\anaconda\\envs\\is310\\lib\\site-packages (from spacy) (3.0.9)\n",
      "Requirement already satisfied: thinc<8.4.0,>=8.3.0 in c:\\users\\denoyer2\\anaconda\\envs\\is310\\lib\\site-packages (from spacy) (8.3.4)\n",
      "Requirement already satisfied: wasabi<1.2.0,>=0.9.1 in c:\\users\\denoyer2\\anaconda\\envs\\is310\\lib\\site-packages (from spacy) (1.1.3)\n",
      "Requirement already satisfied: srsly<3.0.0,>=2.4.3 in c:\\users\\denoyer2\\anaconda\\envs\\is310\\lib\\site-packages (from spacy) (2.5.1)\n",
      "Requirement already satisfied: catalogue<2.1.0,>=2.0.6 in c:\\users\\denoyer2\\anaconda\\envs\\is310\\lib\\site-packages (from spacy) (2.0.10)\n",
      "Requirement already satisfied: weasel<0.5.0,>=0.1.0 in c:\\users\\denoyer2\\anaconda\\envs\\is310\\lib\\site-packages (from spacy) (0.4.1)\n",
      "Requirement already satisfied: typer<1.0.0,>=0.3.0 in c:\\users\\denoyer2\\anaconda\\envs\\is310\\lib\\site-packages (from spacy) (0.15.1)\n",
      "Requirement already satisfied: tqdm<5.0.0,>=4.38.0 in c:\\users\\denoyer2\\anaconda\\envs\\is310\\lib\\site-packages (from spacy) (4.66.5)\n",
      "Requirement already satisfied: numpy>=1.19.0 in c:\\users\\denoyer2\\anaconda\\envs\\is310\\lib\\site-packages (from spacy) (1.26.4)\n",
      "Requirement already satisfied: requests<3.0.0,>=2.13.0 in c:\\users\\denoyer2\\anaconda\\envs\\is310\\lib\\site-packages (from spacy) (2.32.3)\n",
      "Requirement already satisfied: pydantic!=1.8,!=1.8.1,<3.0.0,>=1.7.4 in c:\\users\\denoyer2\\anaconda\\envs\\is310\\lib\\site-packages (from spacy) (2.10.6)\n",
      "Requirement already satisfied: jinja2 in c:\\users\\denoyer2\\anaconda\\envs\\is310\\lib\\site-packages (from spacy) (3.1.4)\n",
      "Requirement already satisfied: setuptools in c:\\users\\denoyer2\\anaconda\\envs\\is310\\lib\\site-packages (from spacy) (72.1.0)\n",
      "Requirement already satisfied: packaging>=20.0 in c:\\users\\denoyer2\\anaconda\\envs\\is310\\lib\\site-packages (from spacy) (24.2)\n",
      "Requirement already satisfied: langcodes<4.0.0,>=3.2.0 in c:\\users\\denoyer2\\anaconda\\envs\\is310\\lib\\site-packages (from spacy) (3.5.0)\n",
      "Requirement already satisfied: language-data>=1.2 in c:\\users\\denoyer2\\anaconda\\envs\\is310\\lib\\site-packages (from langcodes<4.0.0,>=3.2.0->spacy) (1.3.0)\n",
      "Requirement already satisfied: annotated-types>=0.6.0 in c:\\users\\denoyer2\\anaconda\\envs\\is310\\lib\\site-packages (from pydantic!=1.8,!=1.8.1,<3.0.0,>=1.7.4->spacy) (0.7.0)\n",
      "Requirement already satisfied: pydantic-core==2.27.2 in c:\\users\\denoyer2\\anaconda\\envs\\is310\\lib\\site-packages (from pydantic!=1.8,!=1.8.1,<3.0.0,>=1.7.4->spacy) (2.27.2)\n",
      "Requirement already satisfied: typing-extensions>=4.12.2 in c:\\users\\denoyer2\\anaconda\\envs\\is310\\lib\\site-packages (from pydantic!=1.8,!=1.8.1,<3.0.0,>=1.7.4->spacy) (4.12.2)\n",
      "Requirement already satisfied: charset-normalizer<4,>=2 in c:\\users\\denoyer2\\anaconda\\envs\\is310\\lib\\site-packages (from requests<3.0.0,>=2.13.0->spacy) (3.3.2)\n",
      "Requirement already satisfied: idna<4,>=2.5 in c:\\users\\denoyer2\\anaconda\\envs\\is310\\lib\\site-packages (from requests<3.0.0,>=2.13.0->spacy) (3.7)\n",
      "Requirement already satisfied: urllib3<3,>=1.21.1 in c:\\users\\denoyer2\\anaconda\\envs\\is310\\lib\\site-packages (from requests<3.0.0,>=2.13.0->spacy) (2.3.0)\n",
      "Requirement already satisfied: certifi>=2017.4.17 in c:\\users\\denoyer2\\anaconda\\envs\\is310\\lib\\site-packages (from requests<3.0.0,>=2.13.0->spacy) (2024.12.14)\n",
      "Requirement already satisfied: blis<1.3.0,>=1.2.0 in c:\\users\\denoyer2\\anaconda\\envs\\is310\\lib\\site-packages (from thinc<8.4.0,>=8.3.0->spacy) (1.2.0)\n",
      "Requirement already satisfied: confection<1.0.0,>=0.0.1 in c:\\users\\denoyer2\\anaconda\\envs\\is310\\lib\\site-packages (from thinc<8.4.0,>=8.3.0->spacy) (0.1.5)\n",
      "Requirement already satisfied: colorama in c:\\users\\denoyer2\\anaconda\\envs\\is310\\lib\\site-packages (from tqdm<5.0.0,>=4.38.0->spacy) (0.4.6)\n",
      "Requirement already satisfied: click>=8.0.0 in c:\\users\\denoyer2\\anaconda\\envs\\is310\\lib\\site-packages (from typer<1.0.0,>=0.3.0->spacy) (8.1.7)\n",
      "Requirement already satisfied: shellingham>=1.3.0 in c:\\users\\denoyer2\\anaconda\\envs\\is310\\lib\\site-packages (from typer<1.0.0,>=0.3.0->spacy) (1.5.4)\n",
      "Requirement already satisfied: rich>=10.11.0 in c:\\users\\denoyer2\\anaconda\\envs\\is310\\lib\\site-packages (from typer<1.0.0,>=0.3.0->spacy) (13.9.4)\n",
      "Requirement already satisfied: cloudpathlib<1.0.0,>=0.7.0 in c:\\users\\denoyer2\\anaconda\\envs\\is310\\lib\\site-packages (from weasel<0.5.0,>=0.1.0->spacy) (0.20.0)\n",
      "Requirement already satisfied: smart-open<8.0.0,>=5.2.1 in c:\\users\\denoyer2\\anaconda\\envs\\is310\\lib\\site-packages (from weasel<0.5.0,>=0.1.0->spacy) (7.1.0)\n",
      "Requirement already satisfied: MarkupSafe>=2.0 in c:\\users\\denoyer2\\anaconda\\envs\\is310\\lib\\site-packages (from jinja2->spacy) (2.1.3)\n",
      "Requirement already satisfied: marisa-trie>=1.1.0 in c:\\users\\denoyer2\\anaconda\\envs\\is310\\lib\\site-packages (from language-data>=1.2->langcodes<4.0.0,>=3.2.0->spacy) (1.2.1)\n",
      "Requirement already satisfied: markdown-it-py>=2.2.0 in c:\\users\\denoyer2\\anaconda\\envs\\is310\\lib\\site-packages (from rich>=10.11.0->typer<1.0.0,>=0.3.0->spacy) (3.0.0)\n",
      "Requirement already satisfied: pygments<3.0.0,>=2.13.0 in c:\\users\\denoyer2\\anaconda\\envs\\is310\\lib\\site-packages (from rich>=10.11.0->typer<1.0.0,>=0.3.0->spacy) (2.15.1)\n",
      "Requirement already satisfied: wrapt in c:\\users\\denoyer2\\anaconda\\envs\\is310\\lib\\site-packages (from smart-open<8.0.0,>=5.2.1->weasel<0.5.0,>=0.1.0->spacy) (1.17.2)\n",
      "Requirement already satisfied: mdurl~=0.1 in c:\\users\\denoyer2\\anaconda\\envs\\is310\\lib\\site-packages (from markdown-it-py>=2.2.0->rich>=10.11.0->typer<1.0.0,>=0.3.0->spacy) (0.1.2)\n"
     ]
    }
   ],
   "source": [
    "#install spacy in the current conda environment\n",
    "!pip install spacy\n"
   ]
  },
  {
   "cell_type": "code",
   "execution_count": 55,
   "metadata": {},
   "outputs": [
    {
     "name": "stdout",
     "output_type": "stream",
     "text": [
      "Collecting en-core-web-sm==3.8.0\n",
      "  Downloading https://github.com/explosion/spacy-models/releases/download/en_core_web_sm-3.8.0/en_core_web_sm-3.8.0-py3-none-any.whl (12.8 MB)\n",
      "     ---------------------------------------- 0.0/12.8 MB ? eta -:--:--\n",
      "     --------- ------------------------------ 3.1/12.8 MB 16.8 MB/s eta 0:00:01\n",
      "     --------------------------- ------------ 8.9/12.8 MB 23.1 MB/s eta 0:00:01\n",
      "     --------------------------------------- 12.8/12.8 MB 21.7 MB/s eta 0:00:00\n",
      "\u001b[38;5;2m✔ Download and installation successful\u001b[0m\n",
      "You can now load the package via spacy.load('en_core_web_sm')\n"
     ]
    }
   ],
   "source": [
    "#download a small language model to help with cleaning tasks\n",
    "!python -m spacy download en_core_web_sm\n",
    "\n"
   ]
  },
  {
   "cell_type": "code",
   "execution_count": 56,
   "metadata": {},
   "outputs": [],
   "source": [
    "#import required libraries\n",
    "import pandas as pd\n",
    "from sklearn.feature_extraction.text import CountVectorizer\n",
    "import spacy\n",
    "language_model = spacy.load(\"en_core_web_sm\")\n",
    "import matplotlib.pyplot as plt\n",
    "\n",
    "import numpy as np"
   ]
  },
  {
   "cell_type": "markdown",
   "metadata": {},
   "source": [
    "### Problem 1 and example: common words in the Michigan subreddit"
   ]
  },
  {
   "cell_type": "code",
   "execution_count": 57,
   "metadata": {},
   "outputs": [],
   "source": [
    "mich=pd.read_csv(\"umich.csv\")"
   ]
  },
  {
   "cell_type": "code",
   "execution_count": 58,
   "metadata": {},
   "outputs": [
    {
     "data": {
      "text/html": [
       "<div>\n",
       "<style scoped>\n",
       "    .dataframe tbody tr th:only-of-type {\n",
       "        vertical-align: middle;\n",
       "    }\n",
       "\n",
       "    .dataframe tbody tr th {\n",
       "        vertical-align: top;\n",
       "    }\n",
       "\n",
       "    .dataframe thead th {\n",
       "        text-align: right;\n",
       "    }\n",
       "</style>\n",
       "<table border=\"1\" class=\"dataframe\">\n",
       "  <thead>\n",
       "    <tr style=\"text-align: right;\">\n",
       "      <th></th>\n",
       "      <th>Unnamed: 0</th>\n",
       "      <th>date</th>\n",
       "      <th>post_votes</th>\n",
       "      <th>text</th>\n",
       "      <th>user</th>\n",
       "      <th>com_votes</th>\n",
       "    </tr>\n",
       "  </thead>\n",
       "  <tbody>\n",
       "    <tr>\n",
       "      <th>0</th>\n",
       "      <td>0</td>\n",
       "      <td>2024-09-04 15:33:20</td>\n",
       "      <td>2</td>\n",
       "      <td>Zingermans has a nice reuben, pretty pricey but the sammies are pretty big</td>\n",
       "      <td>Suspicious-Bad703</td>\n",
       "      <td>2</td>\n",
       "    </tr>\n",
       "    <tr>\n",
       "      <th>1</th>\n",
       "      <td>1</td>\n",
       "      <td>2024-09-04 15:33:20</td>\n",
       "      <td>2</td>\n",
       "      <td>I really love Tomokun!</td>\n",
       "      <td>webstbre000</td>\n",
       "      <td>2</td>\n",
       "    </tr>\n",
       "    <tr>\n",
       "      <th>2</th>\n",
       "      <td>2</td>\n",
       "      <td>2024-09-04 15:33:20</td>\n",
       "      <td>2</td>\n",
       "      <td>The Seoul is pretty good I especially like their popcorn chicken and crispy rice appetizers!</td>\n",
       "      <td>iaxlmao</td>\n",
       "      <td>1</td>\n",
       "    </tr>\n",
       "    <tr>\n",
       "      <th>3</th>\n",
       "      <td>3</td>\n",
       "      <td>2024-09-04 15:33:20</td>\n",
       "      <td>2</td>\n",
       "      <td>A lot of it depends on what type of food and what type of vibe you are looking for.  There are a lot of options.</td>\n",
       "      <td>I-696</td>\n",
       "      <td>1</td>\n",
       "    </tr>\n",
       "    <tr>\n",
       "      <th>4</th>\n",
       "      <td>4</td>\n",
       "      <td>2024-09-04 14:32:17</td>\n",
       "      <td>1</td>\n",
       "      <td>You can book completely enclosed private study rooms in Shapiro, just go to the library website. AFAIK, there aren’t places in Hatcher (unless you have special access to certain areas) where you can privately speak out loud on a call because even the private carrels and group study areas are open at the top</td>\n",
       "      <td>sneep_</td>\n",
       "      <td>2</td>\n",
       "    </tr>\n",
       "    <tr>\n",
       "      <th>...</th>\n",
       "      <td>...</td>\n",
       "      <td>...</td>\n",
       "      <td>...</td>\n",
       "      <td>...</td>\n",
       "      <td>...</td>\n",
       "      <td>...</td>\n",
       "    </tr>\n",
       "    <tr>\n",
       "      <th>8334</th>\n",
       "      <td>8334</td>\n",
       "      <td>2024-07-02 12:35:36</td>\n",
       "      <td>9</td>\n",
       "      <td>It isn’t a student org</td>\n",
       "      <td>Vibes_And_Smiles</td>\n",
       "      <td>1</td>\n",
       "    </tr>\n",
       "    <tr>\n",
       "      <th>8335</th>\n",
       "      <td>8335</td>\n",
       "      <td>2024-07-02 11:07:10</td>\n",
       "      <td>0</td>\n",
       "      <td>Life   \\r\\nMatter   \\r\\nLife's matter</td>\n",
       "      <td>tctu</td>\n",
       "      <td>8</td>\n",
       "    </tr>\n",
       "    <tr>\n",
       "      <th>8336</th>\n",
       "      <td>8336</td>\n",
       "      <td>2024-07-02 11:07:10</td>\n",
       "      <td>0</td>\n",
       "      <td>google</td>\n",
       "      <td>SUPERazkari</td>\n",
       "      <td>4</td>\n",
       "    </tr>\n",
       "    <tr>\n",
       "      <th>8337</th>\n",
       "      <td>8337</td>\n",
       "      <td>2024-07-02 11:07:10</td>\n",
       "      <td>0</td>\n",
       "      <td>That’s a hard question to answer for a set of individuals.</td>\n",
       "      <td>Own-Resident-3837</td>\n",
       "      <td>-1</td>\n",
       "    </tr>\n",
       "    <tr>\n",
       "      <th>8338</th>\n",
       "      <td>8338</td>\n",
       "      <td>2024-07-02 11:07:10</td>\n",
       "      <td>0</td>\n",
       "      <td>Not either one but instead why do people pick that one?</td>\n",
       "      <td>No-Chemistry-6677</td>\n",
       "      <td>-4</td>\n",
       "    </tr>\n",
       "  </tbody>\n",
       "</table>\n",
       "<p>8339 rows × 6 columns</p>\n",
       "</div>"
      ],
      "text/plain": [
       "      Unnamed: 0                 date  post_votes  \\\n",
       "0              0  2024-09-04 15:33:20           2   \n",
       "1              1  2024-09-04 15:33:20           2   \n",
       "2              2  2024-09-04 15:33:20           2   \n",
       "3              3  2024-09-04 15:33:20           2   \n",
       "4              4  2024-09-04 14:32:17           1   \n",
       "...          ...                  ...         ...   \n",
       "8334        8334  2024-07-02 12:35:36           9   \n",
       "8335        8335  2024-07-02 11:07:10           0   \n",
       "8336        8336  2024-07-02 11:07:10           0   \n",
       "8337        8337  2024-07-02 11:07:10           0   \n",
       "8338        8338  2024-07-02 11:07:10           0   \n",
       "\n",
       "                                                                                                                                                                                                                                                                                                                      text  \\\n",
       "0                                                                                                                                                                                                                                               Zingermans has a nice reuben, pretty pricey but the sammies are pretty big   \n",
       "1                                                                                                                                                                                                                                                                                                   I really love Tomokun!   \n",
       "2                                                                                                                                                                                                                             The Seoul is pretty good I especially like their popcorn chicken and crispy rice appetizers!   \n",
       "3                                                                                                                                                                                                         A lot of it depends on what type of food and what type of vibe you are looking for.  There are a lot of options.   \n",
       "4     You can book completely enclosed private study rooms in Shapiro, just go to the library website. AFAIK, there aren’t places in Hatcher (unless you have special access to certain areas) where you can privately speak out loud on a call because even the private carrels and group study areas are open at the top   \n",
       "...                                                                                                                                                                                                                                                                                                                    ...   \n",
       "8334                                                                                                                                                                                                                                                                                                It isn’t a student org   \n",
       "8335                                                                                                                                                                                                                                                                                 Life   \\r\\nMatter   \\r\\nLife's matter   \n",
       "8336                                                                                                                                                                                                                                                                                                                google   \n",
       "8337                                                                                                                                                                                                                                                            That’s a hard question to answer for a set of individuals.   \n",
       "8338                                                                                                                                                                                                                                                               Not either one but instead why do people pick that one?   \n",
       "\n",
       "                   user  com_votes  \n",
       "0     Suspicious-Bad703          2  \n",
       "1           webstbre000          2  \n",
       "2               iaxlmao          1  \n",
       "3                 I-696          1  \n",
       "4                sneep_          2  \n",
       "...                 ...        ...  \n",
       "8334   Vibes_And_Smiles          1  \n",
       "8335               tctu          8  \n",
       "8336        SUPERazkari          4  \n",
       "8337  Own-Resident-3837         -1  \n",
       "8338  No-Chemistry-6677         -4  \n",
       "\n",
       "[8339 rows x 6 columns]"
      ]
     },
     "execution_count": 58,
     "metadata": {},
     "output_type": "execute_result"
    }
   ],
   "source": [
    "mich"
   ]
  },
  {
   "cell_type": "code",
   "execution_count": 59,
   "metadata": {},
   "outputs": [],
   "source": [
    "def clean(text):\n",
    "    text = ' '.join(text.split())\n",
    "    text = text.lower()\n",
    "    text = ''.join([char for char in text if char.isalpha() or char.isspace()])\n",
    "    return text"
   ]
  },
  {
   "cell_type": "code",
   "execution_count": 60,
   "metadata": {},
   "outputs": [],
   "source": [
    "mich['cleaned_text'] = mich['text'].apply(clean)"
   ]
  },
  {
   "cell_type": "code",
   "execution_count": 61,
   "metadata": {},
   "outputs": [
    {
     "data": {
      "text/plain": [
       "'zingermans has a nice reuben pretty pricey but the sammies are pretty big'"
      ]
     },
     "execution_count": 61,
     "metadata": {},
     "output_type": "execute_result"
    }
   ],
   "source": [
    "mich[\"cleaned_text\"][0]"
   ]
  },
  {
   "cell_type": "code",
   "execution_count": 62,
   "metadata": {},
   "outputs": [
    {
     "data": {
      "text/plain": [
       "'Zingermans has a nice reuben, pretty pricey but the sammies are pretty big'"
      ]
     },
     "execution_count": 62,
     "metadata": {},
     "output_type": "execute_result"
    }
   ],
   "source": [
    "mich[\"text\"][0]"
   ]
  },
  {
   "cell_type": "code",
   "execution_count": 63,
   "metadata": {},
   "outputs": [],
   "source": [
    "vectorizer = CountVectorizer()\n",
    "bag_of_words = vectorizer.fit_transform(mich['cleaned_text'])"
   ]
  },
  {
   "cell_type": "code",
   "execution_count": 64,
   "metadata": {},
   "outputs": [
    {
     "data": {
      "text/plain": [
       "<8339x15289 sparse matrix of type '<class 'numpy.int64'>'\n",
       "\twith 221217 stored elements in Compressed Sparse Row format>"
      ]
     },
     "execution_count": 64,
     "metadata": {},
     "output_type": "execute_result"
    }
   ],
   "source": [
    "bag_of_words"
   ]
  },
  {
   "cell_type": "code",
   "execution_count": 65,
   "metadata": {},
   "outputs": [
    {
     "data": {
      "text/html": [
       "<div>\n",
       "<style scoped>\n",
       "    .dataframe tbody tr th:only-of-type {\n",
       "        vertical-align: middle;\n",
       "    }\n",
       "\n",
       "    .dataframe tbody tr th {\n",
       "        vertical-align: top;\n",
       "    }\n",
       "\n",
       "    .dataframe thead th {\n",
       "        text-align: right;\n",
       "    }\n",
       "</style>\n",
       "<table border=\"1\" class=\"dataframe\">\n",
       "  <thead>\n",
       "    <tr style=\"text-align: right;\">\n",
       "      <th></th>\n",
       "      <th>aa</th>\n",
       "      <th>aadl</th>\n",
       "      <th>aapd</th>\n",
       "      <th>aata</th>\n",
       "      <th>ab</th>\n",
       "      <th>abab</th>\n",
       "      <th>abandon</th>\n",
       "      <th>abandoned</th>\n",
       "      <th>abbreviation</th>\n",
       "      <th>abbreviations</th>\n",
       "      <th>...</th>\n",
       "      <th>zoned</th>\n",
       "      <th>zones</th>\n",
       "      <th>zoning</th>\n",
       "      <th>zoo</th>\n",
       "      <th>zoom</th>\n",
       "      <th>zoomer</th>\n",
       "      <th>zoomers</th>\n",
       "      <th>zuckerberg</th>\n",
       "      <th>𝓲𝓷𝓼𝓮𝓬𝓾𝓻𝓮</th>\n",
       "      <th>𝘢𝘩𝘦𝘮</th>\n",
       "    </tr>\n",
       "  </thead>\n",
       "  <tbody>\n",
       "    <tr>\n",
       "      <th>0</th>\n",
       "      <td>0</td>\n",
       "      <td>0</td>\n",
       "      <td>0</td>\n",
       "      <td>0</td>\n",
       "      <td>0</td>\n",
       "      <td>0</td>\n",
       "      <td>0</td>\n",
       "      <td>0</td>\n",
       "      <td>0</td>\n",
       "      <td>0</td>\n",
       "      <td>...</td>\n",
       "      <td>0</td>\n",
       "      <td>0</td>\n",
       "      <td>0</td>\n",
       "      <td>0</td>\n",
       "      <td>0</td>\n",
       "      <td>0</td>\n",
       "      <td>0</td>\n",
       "      <td>0</td>\n",
       "      <td>0</td>\n",
       "      <td>0</td>\n",
       "    </tr>\n",
       "    <tr>\n",
       "      <th>1</th>\n",
       "      <td>0</td>\n",
       "      <td>0</td>\n",
       "      <td>0</td>\n",
       "      <td>0</td>\n",
       "      <td>0</td>\n",
       "      <td>0</td>\n",
       "      <td>0</td>\n",
       "      <td>0</td>\n",
       "      <td>0</td>\n",
       "      <td>0</td>\n",
       "      <td>...</td>\n",
       "      <td>0</td>\n",
       "      <td>0</td>\n",
       "      <td>0</td>\n",
       "      <td>0</td>\n",
       "      <td>0</td>\n",
       "      <td>0</td>\n",
       "      <td>0</td>\n",
       "      <td>0</td>\n",
       "      <td>0</td>\n",
       "      <td>0</td>\n",
       "    </tr>\n",
       "    <tr>\n",
       "      <th>2</th>\n",
       "      <td>0</td>\n",
       "      <td>0</td>\n",
       "      <td>0</td>\n",
       "      <td>0</td>\n",
       "      <td>0</td>\n",
       "      <td>0</td>\n",
       "      <td>0</td>\n",
       "      <td>0</td>\n",
       "      <td>0</td>\n",
       "      <td>0</td>\n",
       "      <td>...</td>\n",
       "      <td>0</td>\n",
       "      <td>0</td>\n",
       "      <td>0</td>\n",
       "      <td>0</td>\n",
       "      <td>0</td>\n",
       "      <td>0</td>\n",
       "      <td>0</td>\n",
       "      <td>0</td>\n",
       "      <td>0</td>\n",
       "      <td>0</td>\n",
       "    </tr>\n",
       "    <tr>\n",
       "      <th>3</th>\n",
       "      <td>0</td>\n",
       "      <td>0</td>\n",
       "      <td>0</td>\n",
       "      <td>0</td>\n",
       "      <td>0</td>\n",
       "      <td>0</td>\n",
       "      <td>0</td>\n",
       "      <td>0</td>\n",
       "      <td>0</td>\n",
       "      <td>0</td>\n",
       "      <td>...</td>\n",
       "      <td>0</td>\n",
       "      <td>0</td>\n",
       "      <td>0</td>\n",
       "      <td>0</td>\n",
       "      <td>0</td>\n",
       "      <td>0</td>\n",
       "      <td>0</td>\n",
       "      <td>0</td>\n",
       "      <td>0</td>\n",
       "      <td>0</td>\n",
       "    </tr>\n",
       "    <tr>\n",
       "      <th>4</th>\n",
       "      <td>0</td>\n",
       "      <td>0</td>\n",
       "      <td>0</td>\n",
       "      <td>0</td>\n",
       "      <td>0</td>\n",
       "      <td>0</td>\n",
       "      <td>0</td>\n",
       "      <td>0</td>\n",
       "      <td>0</td>\n",
       "      <td>0</td>\n",
       "      <td>...</td>\n",
       "      <td>0</td>\n",
       "      <td>0</td>\n",
       "      <td>0</td>\n",
       "      <td>0</td>\n",
       "      <td>0</td>\n",
       "      <td>0</td>\n",
       "      <td>0</td>\n",
       "      <td>0</td>\n",
       "      <td>0</td>\n",
       "      <td>0</td>\n",
       "    </tr>\n",
       "    <tr>\n",
       "      <th>...</th>\n",
       "      <td>...</td>\n",
       "      <td>...</td>\n",
       "      <td>...</td>\n",
       "      <td>...</td>\n",
       "      <td>...</td>\n",
       "      <td>...</td>\n",
       "      <td>...</td>\n",
       "      <td>...</td>\n",
       "      <td>...</td>\n",
       "      <td>...</td>\n",
       "      <td>...</td>\n",
       "      <td>...</td>\n",
       "      <td>...</td>\n",
       "      <td>...</td>\n",
       "      <td>...</td>\n",
       "      <td>...</td>\n",
       "      <td>...</td>\n",
       "      <td>...</td>\n",
       "      <td>...</td>\n",
       "      <td>...</td>\n",
       "      <td>...</td>\n",
       "    </tr>\n",
       "    <tr>\n",
       "      <th>8334</th>\n",
       "      <td>0</td>\n",
       "      <td>0</td>\n",
       "      <td>0</td>\n",
       "      <td>0</td>\n",
       "      <td>0</td>\n",
       "      <td>0</td>\n",
       "      <td>0</td>\n",
       "      <td>0</td>\n",
       "      <td>0</td>\n",
       "      <td>0</td>\n",
       "      <td>...</td>\n",
       "      <td>0</td>\n",
       "      <td>0</td>\n",
       "      <td>0</td>\n",
       "      <td>0</td>\n",
       "      <td>0</td>\n",
       "      <td>0</td>\n",
       "      <td>0</td>\n",
       "      <td>0</td>\n",
       "      <td>0</td>\n",
       "      <td>0</td>\n",
       "    </tr>\n",
       "    <tr>\n",
       "      <th>8335</th>\n",
       "      <td>0</td>\n",
       "      <td>0</td>\n",
       "      <td>0</td>\n",
       "      <td>0</td>\n",
       "      <td>0</td>\n",
       "      <td>0</td>\n",
       "      <td>0</td>\n",
       "      <td>0</td>\n",
       "      <td>0</td>\n",
       "      <td>0</td>\n",
       "      <td>...</td>\n",
       "      <td>0</td>\n",
       "      <td>0</td>\n",
       "      <td>0</td>\n",
       "      <td>0</td>\n",
       "      <td>0</td>\n",
       "      <td>0</td>\n",
       "      <td>0</td>\n",
       "      <td>0</td>\n",
       "      <td>0</td>\n",
       "      <td>0</td>\n",
       "    </tr>\n",
       "    <tr>\n",
       "      <th>8336</th>\n",
       "      <td>0</td>\n",
       "      <td>0</td>\n",
       "      <td>0</td>\n",
       "      <td>0</td>\n",
       "      <td>0</td>\n",
       "      <td>0</td>\n",
       "      <td>0</td>\n",
       "      <td>0</td>\n",
       "      <td>0</td>\n",
       "      <td>0</td>\n",
       "      <td>...</td>\n",
       "      <td>0</td>\n",
       "      <td>0</td>\n",
       "      <td>0</td>\n",
       "      <td>0</td>\n",
       "      <td>0</td>\n",
       "      <td>0</td>\n",
       "      <td>0</td>\n",
       "      <td>0</td>\n",
       "      <td>0</td>\n",
       "      <td>0</td>\n",
       "    </tr>\n",
       "    <tr>\n",
       "      <th>8337</th>\n",
       "      <td>0</td>\n",
       "      <td>0</td>\n",
       "      <td>0</td>\n",
       "      <td>0</td>\n",
       "      <td>0</td>\n",
       "      <td>0</td>\n",
       "      <td>0</td>\n",
       "      <td>0</td>\n",
       "      <td>0</td>\n",
       "      <td>0</td>\n",
       "      <td>...</td>\n",
       "      <td>0</td>\n",
       "      <td>0</td>\n",
       "      <td>0</td>\n",
       "      <td>0</td>\n",
       "      <td>0</td>\n",
       "      <td>0</td>\n",
       "      <td>0</td>\n",
       "      <td>0</td>\n",
       "      <td>0</td>\n",
       "      <td>0</td>\n",
       "    </tr>\n",
       "    <tr>\n",
       "      <th>8338</th>\n",
       "      <td>0</td>\n",
       "      <td>0</td>\n",
       "      <td>0</td>\n",
       "      <td>0</td>\n",
       "      <td>0</td>\n",
       "      <td>0</td>\n",
       "      <td>0</td>\n",
       "      <td>0</td>\n",
       "      <td>0</td>\n",
       "      <td>0</td>\n",
       "      <td>...</td>\n",
       "      <td>0</td>\n",
       "      <td>0</td>\n",
       "      <td>0</td>\n",
       "      <td>0</td>\n",
       "      <td>0</td>\n",
       "      <td>0</td>\n",
       "      <td>0</td>\n",
       "      <td>0</td>\n",
       "      <td>0</td>\n",
       "      <td>0</td>\n",
       "    </tr>\n",
       "  </tbody>\n",
       "</table>\n",
       "<p>8339 rows × 15289 columns</p>\n",
       "</div>"
      ],
      "text/plain": [
       "      aa  aadl  aapd  aata  ab  abab  abandon  abandoned  abbreviation  \\\n",
       "0      0     0     0     0   0     0        0          0             0   \n",
       "1      0     0     0     0   0     0        0          0             0   \n",
       "2      0     0     0     0   0     0        0          0             0   \n",
       "3      0     0     0     0   0     0        0          0             0   \n",
       "4      0     0     0     0   0     0        0          0             0   \n",
       "...   ..   ...   ...   ...  ..   ...      ...        ...           ...   \n",
       "8334   0     0     0     0   0     0        0          0             0   \n",
       "8335   0     0     0     0   0     0        0          0             0   \n",
       "8336   0     0     0     0   0     0        0          0             0   \n",
       "8337   0     0     0     0   0     0        0          0             0   \n",
       "8338   0     0     0     0   0     0        0          0             0   \n",
       "\n",
       "      abbreviations  ...  zoned  zones  zoning  zoo  zoom  zoomer  zoomers  \\\n",
       "0                 0  ...      0      0       0    0     0       0        0   \n",
       "1                 0  ...      0      0       0    0     0       0        0   \n",
       "2                 0  ...      0      0       0    0     0       0        0   \n",
       "3                 0  ...      0      0       0    0     0       0        0   \n",
       "4                 0  ...      0      0       0    0     0       0        0   \n",
       "...             ...  ...    ...    ...     ...  ...   ...     ...      ...   \n",
       "8334              0  ...      0      0       0    0     0       0        0   \n",
       "8335              0  ...      0      0       0    0     0       0        0   \n",
       "8336              0  ...      0      0       0    0     0       0        0   \n",
       "8337              0  ...      0      0       0    0     0       0        0   \n",
       "8338              0  ...      0      0       0    0     0       0        0   \n",
       "\n",
       "      zuckerberg  𝓲𝓷𝓼𝓮𝓬𝓾𝓻𝓮  𝘢𝘩𝘦𝘮  \n",
       "0              0         0     0  \n",
       "1              0         0     0  \n",
       "2              0         0     0  \n",
       "3              0         0     0  \n",
       "4              0         0     0  \n",
       "...          ...       ...   ...  \n",
       "8334           0         0     0  \n",
       "8335           0         0     0  \n",
       "8336           0         0     0  \n",
       "8337           0         0     0  \n",
       "8338           0         0     0  \n",
       "\n",
       "[8339 rows x 15289 columns]"
      ]
     },
     "execution_count": 65,
     "metadata": {},
     "output_type": "execute_result"
    }
   ],
   "source": [
    "bow_df = pd.DataFrame(bag_of_words.toarray(), columns=vectorizer.get_feature_names_out())\n",
    "bow_df"
   ]
  },
  {
   "cell_type": "code",
   "execution_count": 66,
   "metadata": {},
   "outputs": [
    {
     "data": {
      "text/plain": [
       "the            11306\n",
       "to              8480\n",
       "and             6921\n",
       "you             6256\n",
       "of              5028\n",
       "               ...  \n",
       "journals           1\n",
       "journeywhen        1\n",
       "jpg                1\n",
       "js                 1\n",
       "𝘢𝘩𝘦𝘮               1\n",
       "Length: 15289, dtype: int64"
      ]
     },
     "execution_count": 66,
     "metadata": {},
     "output_type": "execute_result"
    }
   ],
   "source": [
    "word_counts = bow_df.sum()\n",
    "word_counts = word_counts.sort_values(ascending=False)\n",
    "word_counts"
   ]
  },
  {
   "cell_type": "code",
   "execution_count": 67,
   "metadata": {},
   "outputs": [
    {
     "data": {
      "image/png": "[encoded data removed]",
      "text/plain": [
       "<Figure size 2000x1000 with 1 Axes>"
      ]
     },
     "metadata": {},
     "output_type": "display_data"
    }
   ],
   "source": [
    "word_counts = word_counts.head(10)\n",
    "plt.figure(figsize=(20,10))\n",
    "plt.bar(word_counts.index, word_counts.values)\n",
    "plt.xticks(rotation=45)\n",
    "plt.show()"
   ]
  },
  {
   "cell_type": "markdown",
   "metadata": {},
   "source": [
    "#### Question 1: what do you notice about the words in this plot? Is this useful for studying the community?"
   ]
  },
  {
   "cell_type": "markdown",
   "metadata": {},
   "source": [
    "I noticed that all of the words in this plot are stop words. Because these words are so common, they don't tell us much about the content of the sentences themselves. This is not useful for studying the community as it does not tell us anything about what is actually being discussed. In order to analyze the content of the sentences themselves, it is important to remove stopwords and lemmatize as well."
   ]
  },
  {
   "cell_type": "markdown",
   "metadata": {},
   "source": [
    "#### Lemmatization and stopword removal"
   ]
  },
  {
   "cell_type": "code",
   "execution_count": 68,
   "metadata": {},
   "outputs": [],
   "source": [
    "def lemmatize(text):\n",
    "\n",
    "   doc = language_model(text)\n",
    "\n",
    "   tokens = [token.lemma_ for token in doc if not (token.is_stop or token.is_punct)]\n",
    "\n",
    "   return ' '.join(tokens)"
   ]
  },
  {
   "cell_type": "code",
   "execution_count": 69,
   "metadata": {},
   "outputs": [],
   "source": [
    "mich['lemmatized_text'] = mich['cleaned_text'].apply(lemmatize)"
   ]
  },
  {
   "cell_type": "code",
   "execution_count": 70,
   "metadata": {},
   "outputs": [],
   "source": [
    "vectorizer = CountVectorizer(min_df=3, max_df=0.3, ngram_range=(1,2))\n",
    "bag_of_words = vectorizer.fit_transform(mich['lemmatized_text'])"
   ]
  },
  {
   "cell_type": "code",
   "execution_count": 71,
   "metadata": {},
   "outputs": [
    {
     "data": {
      "text/plain": [
       "<8339x8608 sparse matrix of type '<class 'numpy.int64'>'\n",
       "\twith 126768 stored elements in Compressed Sparse Row format>"
      ]
     },
     "execution_count": 71,
     "metadata": {},
     "output_type": "execute_result"
    }
   ],
   "source": [
    "bag_of_words"
   ]
  },
  {
   "cell_type": "code",
   "execution_count": null,
   "metadata": {},
   "outputs": [
    {
     "data": {
      "text/plain": [
       "not              2863\n",
       "student          1183\n",
       "like             1183\n",
       "people           1124\n",
       "class             988\n",
       "                 ... \n",
       "club campus         3\n",
       "open not            3\n",
       "open source         3\n",
       "club activity       3\n",
       "luck search         3\n",
       "Length: 8608, dtype: int64"
      ]
     },
     "execution_count": 72,
     "metadata": {},
     "output_type": "execute_result"
    }
   ],
   "source": [
    "bow_df = pd.DataFrame(bag_of_words.toarray(), columns=vectorizer.get_feature_names_out())\n",
    "word_counts = bow_df.sum()\n",
    "word_counts = word_counts.sort_values(ascending=False)\n",
    "word_counts"
   ]
  },
  {
   "cell_type": "code",
   "execution_count": 73,
   "metadata": {},
   "outputs": [],
   "source": [
    "word_counts = word_counts / word_counts.sum()"
   ]
  },
  {
   "cell_type": "code",
   "execution_count": null,
   "metadata": {},
   "outputs": [
    {
     "data": {
      "image/png": "[encoded data removed]",
      "text/plain": [
       "<Figure size 2000x1000 with 1 Axes>"
      ]
     },
     "metadata": {},
     "output_type": "display_data"
    }
   ],
   "source": [
    "plot_list = word_counts.head(10)\n",
    "plt.figure(figsize=(20,10))\n",
    "plt.bar(plot_list.index, plot_list.values)\n",
    "plt.xticks(rotation=45)\n",
    "plt.show()"
   ]
  },
  {
   "cell_type": "code",
   "execution_count": 75,
   "metadata": {},
   "outputs": [
    {
     "data": {
      "text/plain": [
       "4.1400153180566765e-05"
      ]
     },
     "execution_count": 75,
     "metadata": {},
     "output_type": "execute_result"
    }
   ],
   "source": [
    "word_counts[\"student loan\"]"
   ]
  },
  {
   "cell_type": "code",
   "execution_count": 76,
   "metadata": {},
   "outputs": [
    {
     "data": {
      "text/plain": [
       "history             0.000352\n",
       "business            0.000600\n",
       "computer science    0.000035\n",
       "cs                  0.001228\n",
       "computer            0.000262\n",
       "dtype: float64"
      ]
     },
     "execution_count": 76,
     "metadata": {},
     "output_type": "execute_result"
    }
   ],
   "source": [
    "plot_list=word_counts[[\"history\", \"business\", \"computer science\", \"cs\", \"computer\"]]\n",
    "plot_list"
   ]
  },
  {
   "cell_type": "code",
   "execution_count": 77,
   "metadata": {},
   "outputs": [
    {
     "data": {
      "image/png": "[encoded data removed]",
      "text/plain": [
       "<Figure size 2000x1000 with 1 Axes>"
      ]
     },
     "metadata": {},
     "output_type": "display_data"
    }
   ],
   "source": [
    "\n",
    "plt.figure(figsize=(20,10))\n",
    "plt.bar(plot_list.index, plot_list.values)\n",
    "plt.xticks(rotation=45)\n",
    "plt.show()"
   ]
  },
  {
   "cell_type": "markdown",
   "metadata": {},
   "source": [
    "#### Question 2:"
   ]
  },
  {
   "cell_type": "code",
   "execution_count": 78,
   "metadata": {},
   "outputs": [],
   "source": [
    "#TODO: pick 5 words that you find interesting or are curious about, and plot a bar plot of their frequency in this dataset "
   ]
  },
  {
   "cell_type": "markdown",
   "metadata": {},
   "source": [
    "#Below are the 5 words I am interested in examining\n",
    "*I am interested in these words as I am a psychology major and am wondering how often the words difficult and easy were utalized compared to each other. I was am also interested to see how often individuals were discussing their personal grades and professors on reddit."
   ]
  },
  {
   "cell_type": "code",
   "execution_count": 79,
   "metadata": {},
   "outputs": [
    {
     "data": {
      "text/plain": [
       "psych        0.000255\n",
       "grade        0.000649\n",
       "professor    0.001511\n",
       "difficult    0.000635\n",
       "easy         0.001780\n",
       "dtype: float64"
      ]
     },
     "execution_count": 79,
     "metadata": {},
     "output_type": "execute_result"
    }
   ],
   "source": [
    "plot_list2=word_counts[[\"psych\", \"grade\", \"professor\", \"difficult\", \"easy\"]]\n",
    "plot_list2"
   ]
  },
  {
   "cell_type": "code",
   "execution_count": 80,
   "metadata": {},
   "outputs": [
    {
     "data": {
      "image/png": "[encoded data removed]",
      "text/plain": [
       "<Figure size 2000x1000 with 1 Axes>"
      ]
     },
     "metadata": {},
     "output_type": "display_data"
    }
   ],
   "source": [
    "plt.figure(figsize=(20,10))\n",
    "plt.bar(plot_list2.index, plot_list2.values)\n",
    "plt.xticks(rotation=45)\n",
    "plt.show()"
   ]
  },
  {
   "cell_type": "markdown",
   "metadata": {},
   "source": [
    "### Problem 2: repeat this process with the Illinois subreddit data (in this directory as \"uiuc.csv\"). You should not have to change too much in the previous code besides the dataframe path and name. Your notebook should include the two bar graphs including and excluding stopwords. Use the same 5 words and compare their relative frequency between the two subreddits. Discuss any interesting differences you notice in a short markdown cell. "
   ]
  },
  {
   "cell_type": "code",
   "execution_count": 81,
   "metadata": {},
   "outputs": [],
   "source": [
    "uiuc=pd.read_csv(\"uiuc.csv\")\n"
   ]
  },
  {
   "cell_type": "code",
   "execution_count": 82,
   "metadata": {},
   "outputs": [
    {
     "data": {
      "text/html": [
       "<div>\n",
       "<style scoped>\n",
       "    .dataframe tbody tr th:only-of-type {\n",
       "        vertical-align: middle;\n",
       "    }\n",
       "\n",
       "    .dataframe tbody tr th {\n",
       "        vertical-align: top;\n",
       "    }\n",
       "\n",
       "    .dataframe thead th {\n",
       "        text-align: right;\n",
       "    }\n",
       "</style>\n",
       "<table border=\"1\" class=\"dataframe\">\n",
       "  <thead>\n",
       "    <tr style=\"text-align: right;\">\n",
       "      <th></th>\n",
       "      <th>Unnamed: 0</th>\n",
       "      <th>date</th>\n",
       "      <th>post_votes</th>\n",
       "      <th>text</th>\n",
       "      <th>user</th>\n",
       "      <th>com_votes</th>\n",
       "    </tr>\n",
       "  </thead>\n",
       "  <tbody>\n",
       "    <tr>\n",
       "      <th>0</th>\n",
       "      <td>0</td>\n",
       "      <td>2024-09-04 14:43:40</td>\n",
       "      <td>2</td>\n",
       "      <td>Have the same professor! And in lecture he did say we were gonna have to learn some of the stuff ourself \\r\\n\\r\\nI would recommend using online resources such as Paul’s Online Math Notes and Professor Leonard on YouTube. Personally, I’ve been learning the material from those sources before going to lecture</td>\n",
       "      <td>zhen3441</td>\n",
       "      <td>2</td>\n",
       "    </tr>\n",
       "    <tr>\n",
       "      <th>1</th>\n",
       "      <td>1</td>\n",
       "      <td>2024-09-04 14:43:40</td>\n",
       "      <td>2</td>\n",
       "      <td>Do you find it helpful to still go to the lecture? It seems to me that his slides are embedded with mistakes here and there. It makes it more confusing for me to understand him.</td>\n",
       "      <td>Kai2747</td>\n",
       "      <td>1</td>\n",
       "    </tr>\n",
       "    <tr>\n",
       "      <th>2</th>\n",
       "      <td>2</td>\n",
       "      <td>2024-09-04 12:52:08</td>\n",
       "      <td>3</td>\n",
       "      <td>Have you tried emailing University Housing to request access?</td>\n",
       "      <td>TurboBKTastic</td>\n",
       "      <td>2</td>\n",
       "    </tr>\n",
       "    <tr>\n",
       "      <th>3</th>\n",
       "      <td>3</td>\n",
       "      <td>2024-09-04 12:52:08</td>\n",
       "      <td>3</td>\n",
       "      <td>Purchasing Illini Cash should get you added to the Non-Resident Meal Plan card access level. These **generally** allow you access to whatever is considered the \"front door\" of the residence hall with access to the dining hall.\\r\\n\\r\\nAt PAR, that would be the doors facing the bus stop on the south side of the building. Only the mag stripe reader will work, prox access in (most) of the residence halls is currently only activated for residents with ADA needs.</td>\n",
       "      <td>HoosierCAB</td>\n",
       "      <td>2</td>\n",
       "    </tr>\n",
       "    <tr>\n",
       "      <th>4</th>\n",
       "      <td>4</td>\n",
       "      <td>2024-09-04 12:52:08</td>\n",
       "      <td>3</td>\n",
       "      <td>Just did, thanks for the suggestion! It hadn't occurred to me to do that.</td>\n",
       "      <td>Sector-Both</td>\n",
       "      <td>1</td>\n",
       "    </tr>\n",
       "    <tr>\n",
       "      <th>...</th>\n",
       "      <td>...</td>\n",
       "      <td>...</td>\n",
       "      <td>...</td>\n",
       "      <td>...</td>\n",
       "      <td>...</td>\n",
       "      <td>...</td>\n",
       "    </tr>\n",
       "    <tr>\n",
       "      <th>4720</th>\n",
       "      <td>4720</td>\n",
       "      <td>2024-08-21 20:28:40</td>\n",
       "      <td>1</td>\n",
       "      <td>Im interested if you're still looking</td>\n",
       "      <td>Accomplished_Fix2409</td>\n",
       "      <td>0</td>\n",
       "    </tr>\n",
       "    <tr>\n",
       "      <th>4721</th>\n",
       "      <td>4721</td>\n",
       "      <td>2024-08-21 20:26:15</td>\n",
       "      <td>7</td>\n",
       "      <td>I went to one of the taylor nights. was quite fun even without drinking</td>\n",
       "      <td>student176895</td>\n",
       "      <td>4</td>\n",
       "    </tr>\n",
       "    <tr>\n",
       "      <th>4722</th>\n",
       "      <td>4722</td>\n",
       "      <td>2024-08-21 20:21:54</td>\n",
       "      <td>10</td>\n",
       "      <td>Hey, I’m so sorry to hear that’s happening. If you are a UIUC student, please contact our office at Off-Campus Community Living at [off-campuscommunityliving@illinois.edu](mailto:off-campuscommunityliving@illinois.edu) for resources to help you navigate these issues with your new apartment.</td>\n",
       "      <td>OCCLUIUC</td>\n",
       "      <td>5</td>\n",
       "    </tr>\n",
       "    <tr>\n",
       "      <th>4723</th>\n",
       "      <td>4723</td>\n",
       "      <td>2024-08-21 20:21:54</td>\n",
       "      <td>10</td>\n",
       "      <td>AFAIK, the “cleaning company” that UGroup employs isn’t even a real business. When I had to move units across the hall a couple of years ago, we witnessed what their “cleaning” process looks like—it was a family of three (a mother and her teenage kids) who brought their lunch into the unit to eat while they wiped down the countertops and floors. The apartment was still absolutely filthy from the previous tenants when we got the keys. Fuck UGroup.</td>\n",
       "      <td>perpetuallytired29</td>\n",
       "      <td>3</td>\n",
       "    </tr>\n",
       "    <tr>\n",
       "      <th>4724</th>\n",
       "      <td>4724</td>\n",
       "      <td>2024-08-21 20:21:54</td>\n",
       "      <td>10</td>\n",
       "      <td>thank god it wasn't a half dirty towel</td>\n",
       "      <td>Traditional_Half5199</td>\n",
       "      <td>0</td>\n",
       "    </tr>\n",
       "  </tbody>\n",
       "</table>\n",
       "<p>4725 rows × 6 columns</p>\n",
       "</div>"
      ],
      "text/plain": [
       "      Unnamed: 0                 date  post_votes  \\\n",
       "0              0  2024-09-04 14:43:40           2   \n",
       "1              1  2024-09-04 14:43:40           2   \n",
       "2              2  2024-09-04 12:52:08           3   \n",
       "3              3  2024-09-04 12:52:08           3   \n",
       "4              4  2024-09-04 12:52:08           3   \n",
       "...          ...                  ...         ...   \n",
       "4720        4720  2024-08-21 20:28:40           1   \n",
       "4721        4721  2024-08-21 20:26:15           7   \n",
       "4722        4722  2024-08-21 20:21:54          10   \n",
       "4723        4723  2024-08-21 20:21:54          10   \n",
       "4724        4724  2024-08-21 20:21:54          10   \n",
       "\n",
       "                                                                                                                                                                                                                                                                                                                                                                                                                                                                               text  \\\n",
       "0                                                                                                                                                               Have the same professor! And in lecture he did say we were gonna have to learn some of the stuff ourself \\r\\n\\r\\nI would recommend using online resources such as Paul’s Online Math Notes and Professor Leonard on YouTube. Personally, I’ve been learning the material from those sources before going to lecture   \n",
       "1                                                                                                                                                                                                                                                                                                 Do you find it helpful to still go to the lecture? It seems to me that his slides are embedded with mistakes here and there. It makes it more confusing for me to understand him.   \n",
       "2                                                                                                                                                                                                                                                                                                                                                                                                                     Have you tried emailing University Housing to request access?   \n",
       "3     Purchasing Illini Cash should get you added to the Non-Resident Meal Plan card access level. These **generally** allow you access to whatever is considered the \"front door\" of the residence hall with access to the dining hall.\\r\\n\\r\\nAt PAR, that would be the doors facing the bus stop on the south side of the building. Only the mag stripe reader will work, prox access in (most) of the residence halls is currently only activated for residents with ADA needs.   \n",
       "4                                                                                                                                                                                                                                                                                                                                                                                                         Just did, thanks for the suggestion! It hadn't occurred to me to do that.   \n",
       "...                                                                                                                                                                                                                                                                                                                                                                                                                                                                             ...   \n",
       "4720                                                                                                                                                                                                                                                                                                                                                                                                                                          Im interested if you're still looking   \n",
       "4721                                                                                                                                                                                                                                                                                                                                                                                                        I went to one of the taylor nights. was quite fun even without drinking   \n",
       "4722                                                                                                                                                                            Hey, I’m so sorry to hear that’s happening. If you are a UIUC student, please contact our office at Off-Campus Community Living at [off-campuscommunityliving@illinois.edu](mailto:off-campuscommunityliving@illinois.edu) for resources to help you navigate these issues with your new apartment.   \n",
       "4723             AFAIK, the “cleaning company” that UGroup employs isn’t even a real business. When I had to move units across the hall a couple of years ago, we witnessed what their “cleaning” process looks like—it was a family of three (a mother and her teenage kids) who brought their lunch into the unit to eat while they wiped down the countertops and floors. The apartment was still absolutely filthy from the previous tenants when we got the keys. Fuck UGroup.   \n",
       "4724                                                                                                                                                                                                                                                                                                                                                                                                                                         thank god it wasn't a half dirty towel   \n",
       "\n",
       "                      user  com_votes  \n",
       "0                 zhen3441          2  \n",
       "1                  Kai2747          1  \n",
       "2            TurboBKTastic          2  \n",
       "3               HoosierCAB          2  \n",
       "4              Sector-Both          1  \n",
       "...                    ...        ...  \n",
       "4720  Accomplished_Fix2409          0  \n",
       "4721         student176895          4  \n",
       "4722              OCCLUIUC          5  \n",
       "4723    perpetuallytired29          3  \n",
       "4724  Traditional_Half5199          0  \n",
       "\n",
       "[4725 rows x 6 columns]"
      ]
     },
     "execution_count": 82,
     "metadata": {},
     "output_type": "execute_result"
    }
   ],
   "source": [
    "uiuc"
   ]
  },
  {
   "cell_type": "code",
   "execution_count": 83,
   "metadata": {},
   "outputs": [],
   "source": [
    "def clean(text):\n",
    "    text = ' '.join(text.split())\n",
    "    text = text.lower()\n",
    "    text = ''.join([char for char in text if char.isalpha() or char.isspace()])\n",
    "    return text"
   ]
  },
  {
   "cell_type": "code",
   "execution_count": 147,
   "metadata": {},
   "outputs": [],
   "source": [
    "uiuc['cleaned_text'] = uiuc['text'].apply(clean)"
   ]
  },
  {
   "cell_type": "code",
   "execution_count": 85,
   "metadata": {},
   "outputs": [
    {
     "data": {
      "text/plain": [
       "'have the same professor and in lecture he did say we were gonna have to learn some of the stuff ourself i would recommend using online resources such as pauls online math notes and professor leonard on youtube personally ive been learning the material from those sources before going to lecture'"
      ]
     },
     "execution_count": 85,
     "metadata": {},
     "output_type": "execute_result"
    }
   ],
   "source": [
    "uiuc[\"cleaned_text\"][0]"
   ]
  },
  {
   "cell_type": "code",
   "execution_count": 86,
   "metadata": {},
   "outputs": [
    {
     "data": {
      "text/plain": [
       "'Have the same professor! And in lecture he did say we were gonna have to learn some of the stuff ourself\\xa0\\r\\n\\r\\nI would recommend using online resources such as Paul’s Online Math Notes and Professor Leonard on YouTube. Personally, I’ve been learning the material from those sources before going to lecture'"
      ]
     },
     "execution_count": 86,
     "metadata": {},
     "output_type": "execute_result"
    }
   ],
   "source": [
    "uiuc[\"text\"][0]"
   ]
  },
  {
   "cell_type": "code",
   "execution_count": 87,
   "metadata": {},
   "outputs": [],
   "source": [
    "vectorizer = CountVectorizer()\n",
    "bag_of_wordsuiuc = vectorizer.fit_transform(uiuc['cleaned_text'])"
   ]
  },
  {
   "cell_type": "code",
   "execution_count": 88,
   "metadata": {},
   "outputs": [
    {
     "data": {
      "text/plain": [
       "<4725x10109 sparse matrix of type '<class 'numpy.int64'>'\n",
       "\twith 98566 stored elements in Compressed Sparse Row format>"
      ]
     },
     "execution_count": 88,
     "metadata": {},
     "output_type": "execute_result"
    }
   ],
   "source": [
    "bag_of_wordsuiuc"
   ]
  },
  {
   "cell_type": "code",
   "execution_count": 89,
   "metadata": {},
   "outputs": [
    {
     "data": {
      "text/html": [
       "<div>\n",
       "<style scoped>\n",
       "    .dataframe tbody tr th:only-of-type {\n",
       "        vertical-align: middle;\n",
       "    }\n",
       "\n",
       "    .dataframe tbody tr th {\n",
       "        vertical-align: top;\n",
       "    }\n",
       "\n",
       "    .dataframe thead th {\n",
       "        text-align: right;\n",
       "    }\n",
       "</style>\n",
       "<table border=\"1\" class=\"dataframe\">\n",
       "  <thead>\n",
       "    <tr style=\"text-align: right;\">\n",
       "      <th></th>\n",
       "      <th>aa</th>\n",
       "      <th>aaa</th>\n",
       "      <th>aaaaah</th>\n",
       "      <th>aaabb</th>\n",
       "      <th>ab</th>\n",
       "      <th>abandoned</th>\n",
       "      <th>abcc</th>\n",
       "      <th>abide</th>\n",
       "      <th>abilities</th>\n",
       "      <th>ability</th>\n",
       "      <th>...</th>\n",
       "      <th>zombie</th>\n",
       "      <th>zone</th>\n",
       "      <th>zones</th>\n",
       "      <th>zoo</th>\n",
       "      <th>zoom</th>\n",
       "      <th>zoomed</th>\n",
       "      <th>봉사를</th>\n",
       "      <th>세계로</th>\n",
       "      <th>숭실</th>\n",
       "      <th>진리와</th>\n",
       "    </tr>\n",
       "  </thead>\n",
       "  <tbody>\n",
       "    <tr>\n",
       "      <th>0</th>\n",
       "      <td>0</td>\n",
       "      <td>0</td>\n",
       "      <td>0</td>\n",
       "      <td>0</td>\n",
       "      <td>0</td>\n",
       "      <td>0</td>\n",
       "      <td>0</td>\n",
       "      <td>0</td>\n",
       "      <td>0</td>\n",
       "      <td>0</td>\n",
       "      <td>...</td>\n",
       "      <td>0</td>\n",
       "      <td>0</td>\n",
       "      <td>0</td>\n",
       "      <td>0</td>\n",
       "      <td>0</td>\n",
       "      <td>0</td>\n",
       "      <td>0</td>\n",
       "      <td>0</td>\n",
       "      <td>0</td>\n",
       "      <td>0</td>\n",
       "    </tr>\n",
       "    <tr>\n",
       "      <th>1</th>\n",
       "      <td>0</td>\n",
       "      <td>0</td>\n",
       "      <td>0</td>\n",
       "      <td>0</td>\n",
       "      <td>0</td>\n",
       "      <td>0</td>\n",
       "      <td>0</td>\n",
       "      <td>0</td>\n",
       "      <td>0</td>\n",
       "      <td>0</td>\n",
       "      <td>...</td>\n",
       "      <td>0</td>\n",
       "      <td>0</td>\n",
       "      <td>0</td>\n",
       "      <td>0</td>\n",
       "      <td>0</td>\n",
       "      <td>0</td>\n",
       "      <td>0</td>\n",
       "      <td>0</td>\n",
       "      <td>0</td>\n",
       "      <td>0</td>\n",
       "    </tr>\n",
       "    <tr>\n",
       "      <th>2</th>\n",
       "      <td>0</td>\n",
       "      <td>0</td>\n",
       "      <td>0</td>\n",
       "      <td>0</td>\n",
       "      <td>0</td>\n",
       "      <td>0</td>\n",
       "      <td>0</td>\n",
       "      <td>0</td>\n",
       "      <td>0</td>\n",
       "      <td>0</td>\n",
       "      <td>...</td>\n",
       "      <td>0</td>\n",
       "      <td>0</td>\n",
       "      <td>0</td>\n",
       "      <td>0</td>\n",
       "      <td>0</td>\n",
       "      <td>0</td>\n",
       "      <td>0</td>\n",
       "      <td>0</td>\n",
       "      <td>0</td>\n",
       "      <td>0</td>\n",
       "    </tr>\n",
       "    <tr>\n",
       "      <th>3</th>\n",
       "      <td>0</td>\n",
       "      <td>0</td>\n",
       "      <td>0</td>\n",
       "      <td>0</td>\n",
       "      <td>0</td>\n",
       "      <td>0</td>\n",
       "      <td>0</td>\n",
       "      <td>0</td>\n",
       "      <td>0</td>\n",
       "      <td>0</td>\n",
       "      <td>...</td>\n",
       "      <td>0</td>\n",
       "      <td>0</td>\n",
       "      <td>0</td>\n",
       "      <td>0</td>\n",
       "      <td>0</td>\n",
       "      <td>0</td>\n",
       "      <td>0</td>\n",
       "      <td>0</td>\n",
       "      <td>0</td>\n",
       "      <td>0</td>\n",
       "    </tr>\n",
       "    <tr>\n",
       "      <th>4</th>\n",
       "      <td>0</td>\n",
       "      <td>0</td>\n",
       "      <td>0</td>\n",
       "      <td>0</td>\n",
       "      <td>0</td>\n",
       "      <td>0</td>\n",
       "      <td>0</td>\n",
       "      <td>0</td>\n",
       "      <td>0</td>\n",
       "      <td>0</td>\n",
       "      <td>...</td>\n",
       "      <td>0</td>\n",
       "      <td>0</td>\n",
       "      <td>0</td>\n",
       "      <td>0</td>\n",
       "      <td>0</td>\n",
       "      <td>0</td>\n",
       "      <td>0</td>\n",
       "      <td>0</td>\n",
       "      <td>0</td>\n",
       "      <td>0</td>\n",
       "    </tr>\n",
       "    <tr>\n",
       "      <th>...</th>\n",
       "      <td>...</td>\n",
       "      <td>...</td>\n",
       "      <td>...</td>\n",
       "      <td>...</td>\n",
       "      <td>...</td>\n",
       "      <td>...</td>\n",
       "      <td>...</td>\n",
       "      <td>...</td>\n",
       "      <td>...</td>\n",
       "      <td>...</td>\n",
       "      <td>...</td>\n",
       "      <td>...</td>\n",
       "      <td>...</td>\n",
       "      <td>...</td>\n",
       "      <td>...</td>\n",
       "      <td>...</td>\n",
       "      <td>...</td>\n",
       "      <td>...</td>\n",
       "      <td>...</td>\n",
       "      <td>...</td>\n",
       "      <td>...</td>\n",
       "    </tr>\n",
       "    <tr>\n",
       "      <th>4720</th>\n",
       "      <td>0</td>\n",
       "      <td>0</td>\n",
       "      <td>0</td>\n",
       "      <td>0</td>\n",
       "      <td>0</td>\n",
       "      <td>0</td>\n",
       "      <td>0</td>\n",
       "      <td>0</td>\n",
       "      <td>0</td>\n",
       "      <td>0</td>\n",
       "      <td>...</td>\n",
       "      <td>0</td>\n",
       "      <td>0</td>\n",
       "      <td>0</td>\n",
       "      <td>0</td>\n",
       "      <td>0</td>\n",
       "      <td>0</td>\n",
       "      <td>0</td>\n",
       "      <td>0</td>\n",
       "      <td>0</td>\n",
       "      <td>0</td>\n",
       "    </tr>\n",
       "    <tr>\n",
       "      <th>4721</th>\n",
       "      <td>0</td>\n",
       "      <td>0</td>\n",
       "      <td>0</td>\n",
       "      <td>0</td>\n",
       "      <td>0</td>\n",
       "      <td>0</td>\n",
       "      <td>0</td>\n",
       "      <td>0</td>\n",
       "      <td>0</td>\n",
       "      <td>0</td>\n",
       "      <td>...</td>\n",
       "      <td>0</td>\n",
       "      <td>0</td>\n",
       "      <td>0</td>\n",
       "      <td>0</td>\n",
       "      <td>0</td>\n",
       "      <td>0</td>\n",
       "      <td>0</td>\n",
       "      <td>0</td>\n",
       "      <td>0</td>\n",
       "      <td>0</td>\n",
       "    </tr>\n",
       "    <tr>\n",
       "      <th>4722</th>\n",
       "      <td>0</td>\n",
       "      <td>0</td>\n",
       "      <td>0</td>\n",
       "      <td>0</td>\n",
       "      <td>0</td>\n",
       "      <td>0</td>\n",
       "      <td>0</td>\n",
       "      <td>0</td>\n",
       "      <td>0</td>\n",
       "      <td>0</td>\n",
       "      <td>...</td>\n",
       "      <td>0</td>\n",
       "      <td>0</td>\n",
       "      <td>0</td>\n",
       "      <td>0</td>\n",
       "      <td>0</td>\n",
       "      <td>0</td>\n",
       "      <td>0</td>\n",
       "      <td>0</td>\n",
       "      <td>0</td>\n",
       "      <td>0</td>\n",
       "    </tr>\n",
       "    <tr>\n",
       "      <th>4723</th>\n",
       "      <td>0</td>\n",
       "      <td>0</td>\n",
       "      <td>0</td>\n",
       "      <td>0</td>\n",
       "      <td>0</td>\n",
       "      <td>0</td>\n",
       "      <td>0</td>\n",
       "      <td>0</td>\n",
       "      <td>0</td>\n",
       "      <td>0</td>\n",
       "      <td>...</td>\n",
       "      <td>0</td>\n",
       "      <td>0</td>\n",
       "      <td>0</td>\n",
       "      <td>0</td>\n",
       "      <td>0</td>\n",
       "      <td>0</td>\n",
       "      <td>0</td>\n",
       "      <td>0</td>\n",
       "      <td>0</td>\n",
       "      <td>0</td>\n",
       "    </tr>\n",
       "    <tr>\n",
       "      <th>4724</th>\n",
       "      <td>0</td>\n",
       "      <td>0</td>\n",
       "      <td>0</td>\n",
       "      <td>0</td>\n",
       "      <td>0</td>\n",
       "      <td>0</td>\n",
       "      <td>0</td>\n",
       "      <td>0</td>\n",
       "      <td>0</td>\n",
       "      <td>0</td>\n",
       "      <td>...</td>\n",
       "      <td>0</td>\n",
       "      <td>0</td>\n",
       "      <td>0</td>\n",
       "      <td>0</td>\n",
       "      <td>0</td>\n",
       "      <td>0</td>\n",
       "      <td>0</td>\n",
       "      <td>0</td>\n",
       "      <td>0</td>\n",
       "      <td>0</td>\n",
       "    </tr>\n",
       "  </tbody>\n",
       "</table>\n",
       "<p>4725 rows × 10109 columns</p>\n",
       "</div>"
      ],
      "text/plain": [
       "      aa  aaa  aaaaah  aaabb  ab  abandoned  abcc  abide  abilities  ability  \\\n",
       "0      0    0       0      0   0          0     0      0          0        0   \n",
       "1      0    0       0      0   0          0     0      0          0        0   \n",
       "2      0    0       0      0   0          0     0      0          0        0   \n",
       "3      0    0       0      0   0          0     0      0          0        0   \n",
       "4      0    0       0      0   0          0     0      0          0        0   \n",
       "...   ..  ...     ...    ...  ..        ...   ...    ...        ...      ...   \n",
       "4720   0    0       0      0   0          0     0      0          0        0   \n",
       "4721   0    0       0      0   0          0     0      0          0        0   \n",
       "4722   0    0       0      0   0          0     0      0          0        0   \n",
       "4723   0    0       0      0   0          0     0      0          0        0   \n",
       "4724   0    0       0      0   0          0     0      0          0        0   \n",
       "\n",
       "      ...  zombie  zone  zones  zoo  zoom  zoomed  봉사를  세계로  숭실  진리와  \n",
       "0     ...       0     0      0    0     0       0    0    0   0    0  \n",
       "1     ...       0     0      0    0     0       0    0    0   0    0  \n",
       "2     ...       0     0      0    0     0       0    0    0   0    0  \n",
       "3     ...       0     0      0    0     0       0    0    0   0    0  \n",
       "4     ...       0     0      0    0     0       0    0    0   0    0  \n",
       "...   ...     ...   ...    ...  ...   ...     ...  ...  ...  ..  ...  \n",
       "4720  ...       0     0      0    0     0       0    0    0   0    0  \n",
       "4721  ...       0     0      0    0     0       0    0    0   0    0  \n",
       "4722  ...       0     0      0    0     0       0    0    0   0    0  \n",
       "4723  ...       0     0      0    0     0       0    0    0   0    0  \n",
       "4724  ...       0     0      0    0     0       0    0    0   0    0  \n",
       "\n",
       "[4725 rows x 10109 columns]"
      ]
     },
     "execution_count": 89,
     "metadata": {},
     "output_type": "execute_result"
    }
   ],
   "source": [
    "bow_df = pd.DataFrame(bag_of_wordsuiuc.toarray(), columns=vectorizer.get_feature_names_out())\n",
    "bow_df"
   ]
  },
  {
   "cell_type": "code",
   "execution_count": 90,
   "metadata": {},
   "outputs": [
    {
     "data": {
      "text/plain": [
       "the                                                                                                       4613\n",
       "to                                                                                                        3629\n",
       "and                                                                                                       2973\n",
       "you                                                                                                       2551\n",
       "of                                                                                                        1854\n",
       "                                                                                                          ... \n",
       "httpswwwwciacomnewsraresquirrelmemorializedonuoficampus                                                      1\n",
       "httpswwwurbanaillinoisussitesdefaultfilesattachmentslandlordtenantpdf                                        1\n",
       "httpswwwuoficreditunionorgcreditcreditcardshttpswwwuoficreditunionorgcreditcreditcards                       1\n",
       "httpswwwuniversityymcaorgwhatweofferprogramsdumprunhttpswwwuniversityymcaorgwhatweofferprogramsdumprun       1\n",
       "진리와                                                                                                          1\n",
       "Length: 10109, dtype: int64"
      ]
     },
     "execution_count": 90,
     "metadata": {},
     "output_type": "execute_result"
    }
   ],
   "source": [
    "word_counts = bow_df.sum()\n",
    "word_counts = word_counts.sort_values(ascending=False)\n",
    "word_counts"
   ]
  },
  {
   "cell_type": "code",
   "execution_count": 91,
   "metadata": {},
   "outputs": [
    {
     "data": {
      "image/png": "[encoded data removed]",
      "text/plain": [
       "<Figure size 2000x1000 with 1 Axes>"
      ]
     },
     "metadata": {},
     "output_type": "display_data"
    }
   ],
   "source": [
    "word_counts = word_counts.head(10)\n",
    "plt.figure(figsize=(20,10))\n",
    "plt.bar(word_counts.index, word_counts.values)\n",
    "plt.xticks(rotation=45)\n",
    "plt.show()"
   ]
  },
  {
   "cell_type": "code",
   "execution_count": 92,
   "metadata": {},
   "outputs": [],
   "source": [
    "def lemmatize(text):\n",
    "\n",
    "   doc = language_model(text)\n",
    "\n",
    "   tokens = [token.lemma_ for token in doc if not (token.is_stop or token.is_punct)]\n",
    "\n",
    "   return ' '.join(tokens)"
   ]
  },
  {
   "cell_type": "code",
   "execution_count": 195,
   "metadata": {},
   "outputs": [],
   "source": [
    "uiuc['lemmatized_text'] = uiuc['cleaned_text'].apply(lemmatize)"
   ]
  },
  {
   "cell_type": "code",
   "execution_count": 196,
   "metadata": {},
   "outputs": [],
   "source": [
    "vectorizer = CountVectorizer(min_df=3, max_df=0.3, ngram_range=(1,2))\n",
    "bag_of_words = vectorizer.fit_transform(uiuc['lemmatized_text'])"
   ]
  },
  {
   "cell_type": "code",
   "execution_count": 200,
   "metadata": {},
   "outputs": [
    {
     "data": {
      "text/plain": [
       "<4725x3883 sparse matrix of type '<class 'numpy.int64'>'\n",
       "\twith 49393 stored elements in Compressed Sparse Row format>"
      ]
     },
     "execution_count": 200,
     "metadata": {},
     "output_type": "execute_result"
    }
   ],
   "source": [
    "bag_of_words"
   ]
  },
  {
   "cell_type": "code",
   "execution_count": 199,
   "metadata": {},
   "outputs": [
    {
     "data": {
      "text/plain": [
       "not         1205\n",
       "like         534\n",
       "people       481\n",
       "good         389\n",
       "time         376\n",
       "            ... \n",
       "marville       3\n",
       "markdown       3\n",
       "maps           3\n",
       "maple          3\n",
       "luck get       3\n",
       "Length: 3883, dtype: int64"
      ]
     },
     "execution_count": 199,
     "metadata": {},
     "output_type": "execute_result"
    }
   ],
   "source": [
    "bow_df = pd.DataFrame(bag_of_words.toarray(), columns=vectorizer.get_feature_names_out())\n",
    "word_counts = bow_df.sum()\n",
    "word_counts = word_counts.sort_values(ascending=False)\n",
    "word_counts"
   ]
  },
  {
   "cell_type": "code",
   "execution_count": 97,
   "metadata": {},
   "outputs": [],
   "source": [
    "word_countsuiuc = word_counts / word_counts.sum()"
   ]
  },
  {
   "cell_type": "code",
   "execution_count": 98,
   "metadata": {},
   "outputs": [
    {
     "data": {
      "image/png": "[encoded data removed]",
      "text/plain": [
       "<Figure size 2000x1000 with 1 Axes>"
      ]
     },
     "metadata": {},
     "output_type": "display_data"
    }
   ],
   "source": [
    "plot_list = word_countsuiuc.head(10)\n",
    "plt.figure(figsize=(20,10))\n",
    "plt.bar(plot_list.index, plot_list.values)\n",
    "plt.xticks(rotation=45)\n",
    "plt.show()"
   ]
  },
  {
   "cell_type": "code",
   "execution_count": 99,
   "metadata": {},
   "outputs": [
    {
     "name": "stdout",
     "output_type": "stream",
     "text": [
      "Index(['not', 'like', 'people', 'good', 'time', 'get', 'year', 'know',\n",
      "       'student', 'think',\n",
      "       ...\n",
      "       'med', 'meantime', 'mean lot', 'maybe look', 'mate', 'mask sick',\n",
      "       'marville', 'markdown', 'maps', 'luckily'],\n",
      "      dtype='object', length=3882)\n"
     ]
    }
   ],
   "source": [
    "print(word_countsuiuc.index)"
   ]
  },
  {
   "cell_type": "code",
   "execution_count": 100,
   "metadata": {},
   "outputs": [
    {
     "name": "stdout",
     "output_type": "stream",
     "text": [
      "student loan not found\n"
     ]
    }
   ],
   "source": [
    "#ChatGPT aided me in this code \n",
    "if 'student loan' in word_countsuiuc.index:\n",
    "    print(word_countsuiuc[\"student loan\"])\n",
    "else:\n",
    "    print(\"student loan not found\")"
   ]
  },
  {
   "cell_type": "markdown",
   "metadata": {},
   "source": [
    "#Because the exact phrase \"student loan\" was not found in this dataset, I instead found the count of the word loan which is similar to the phrase \"student loan\" used in the originial dataset from part 1."
   ]
  },
  {
   "cell_type": "code",
   "execution_count": 144,
   "metadata": {},
   "outputs": [
    {
     "data": {
      "text/plain": [
       "0.00014490391059428717"
      ]
     },
     "execution_count": 144,
     "metadata": {},
     "output_type": "execute_result"
    }
   ],
   "source": [
    "word_countsuiuc[\"loan\"]"
   ]
  },
  {
   "cell_type": "markdown",
   "metadata": {},
   "source": [
    "#Computer science was also not in the index for this dataset, so I switched \"computer science\" to \"science.\""
   ]
  },
  {
   "cell_type": "code",
   "execution_count": 102,
   "metadata": {},
   "outputs": [
    {
     "data": {
      "text/plain": [
       "history     0.000344\n",
       "business    0.000543\n",
       "science     0.000217\n",
       "cs          0.001413\n",
       "computer    0.000290\n",
       "dtype: float64"
      ]
     },
     "execution_count": 102,
     "metadata": {},
     "output_type": "execute_result"
    }
   ],
   "source": [
    "plot_listuiuc=word_countsuiuc[[\"history\", \"business\", \"science\", \"cs\", \"computer\"]]\n",
    "plot_listuiuc"
   ]
  },
  {
   "cell_type": "code",
   "execution_count": 103,
   "metadata": {},
   "outputs": [
    {
     "data": {
      "image/png": "[encoded data removed]",
      "text/plain": [
       "<Figure size 2000x1000 with 1 Axes>"
      ]
     },
     "metadata": {},
     "output_type": "display_data"
    }
   ],
   "source": [
    "plt.figure(figsize=(20,10))\n",
    "plt.bar(plot_listuiuc.index, plot_listuiuc.values)\n",
    "plt.xticks(rotation=45)\n",
    "plt.show()"
   ]
  },
  {
   "cell_type": "code",
   "execution_count": 104,
   "metadata": {},
   "outputs": [
    {
     "data": {
      "text/plain": [
       "psych        0.000054\n",
       "grade        0.000562\n",
       "professor    0.001123\n",
       "difficult    0.000471\n",
       "easy         0.001340\n",
       "dtype: float64"
      ]
     },
     "execution_count": 104,
     "metadata": {},
     "output_type": "execute_result"
    }
   ],
   "source": [
    "plot_list2uiuc=word_countsuiuc[[\"psych\", \"grade\", \"professor\", \"difficult\", \"easy\"]]\n",
    "plot_list2uiuc"
   ]
  },
  {
   "cell_type": "code",
   "execution_count": 105,
   "metadata": {},
   "outputs": [
    {
     "data": {
      "image/png": "[encoded data removed]",
      "text/plain": [
       "<Figure size 2000x1000 with 1 Axes>"
      ]
     },
     "metadata": {},
     "output_type": "display_data"
    }
   ],
   "source": [
    "plt.figure(figsize=(20,10))\n",
    "plt.bar(plot_list2.index, plot_list2.values)\n",
    "plt.xticks(rotation=45)\n",
    "plt.show()"
   ]
  },
  {
   "cell_type": "markdown",
   "metadata": {},
   "source": [
    "After repeating this process with the UIUC dataset, I noticed some differences between this dataset and the Michigan dataset. The first difference I noticed was that the matrix was much larger for the Michigan dataset, meaning that it had more columns and rows than the UIUC dataset. One thing that was extremely similar about these datasets was how similar the most common words were before lemmitization. Both datasets contained the same top 5 most common stopwords which were the, to, and, you, and of. I was suprised to see that these words were the top five most common words for both datasets. However, after lemmitization, the most common words for each dataset became different from one another. The most common words for Michigan were not, student, like, people, and class while the most common words for UIUC were not, like, people, good, and time. This was suprising as again, both datasets shared common words which were not, like, and people. As for the other graphs, there was not huge differences between the datasets on how freuqent these specific words were said. Therefore, repeating this process with the UIUC dataset showed me just how similar the UIUC and Michigan subreddit actually are overall."
   ]
  },
  {
   "cell_type": "markdown",
   "metadata": {},
   "source": [
    "### Problem 3: using the provided combined dataframe, train a logistic regression model using the sklearn Logistic Regression implementation. https://scikit-learn.org/stable/modules/generated/sklearn.linear_model.LogisticRegression.html. Create a bag of words table from the combined data, and use that along with the \"label\" column to train the classifier. Please try this out and be prepared with issues or questions next Monday. We will be discussing in class"
   ]
  },
  {
   "cell_type": "code",
   "execution_count": 106,
   "metadata": {},
   "outputs": [],
   "source": [
    "uiuc=pd.read_csv(\"uiuc.csv\")\n",
    "mich=pd.read_csv(\"umich.csv\")\n",
    "\n",
    "mich=mich.sample(n=4725)\n",
    "\n",
    "uiuc['label']=1\n",
    "mich['label']=0\n",
    "\n",
    "data=pd.concat([uiuc,mich])"
   ]
  },
  {
   "cell_type": "code",
   "execution_count": 107,
   "metadata": {},
   "outputs": [],
   "source": [
    "import pandas as pd"
   ]
  },
  {
   "cell_type": "code",
   "execution_count": 108,
   "metadata": {},
   "outputs": [],
   "source": [
    "\n",
    "def clean(text):\n",
    "\n",
    "    text = text.lower()\n",
    " \n",
    "    text = ''.join([char for char in text if char.isalpha() or char.isspace()])\n",
    "\n",
    "    text = ' '.join(text.split())\n",
    "    return text"
   ]
  },
  {
   "cell_type": "code",
   "execution_count": 109,
   "metadata": {},
   "outputs": [],
   "source": [
    "data = pd.concat([uiuc,mich])"
   ]
  },
  {
   "cell_type": "code",
   "execution_count": 110,
   "metadata": {},
   "outputs": [
    {
     "data": {
      "text/html": [
       "<div>\n",
       "<style scoped>\n",
       "    .dataframe tbody tr th:only-of-type {\n",
       "        vertical-align: middle;\n",
       "    }\n",
       "\n",
       "    .dataframe tbody tr th {\n",
       "        vertical-align: top;\n",
       "    }\n",
       "\n",
       "    .dataframe thead th {\n",
       "        text-align: right;\n",
       "    }\n",
       "</style>\n",
       "<table border=\"1\" class=\"dataframe\">\n",
       "  <thead>\n",
       "    <tr style=\"text-align: right;\">\n",
       "      <th></th>\n",
       "      <th>Unnamed: 0</th>\n",
       "      <th>date</th>\n",
       "      <th>post_votes</th>\n",
       "      <th>text</th>\n",
       "      <th>user</th>\n",
       "      <th>com_votes</th>\n",
       "      <th>label</th>\n",
       "    </tr>\n",
       "  </thead>\n",
       "  <tbody>\n",
       "    <tr>\n",
       "      <th>0</th>\n",
       "      <td>0</td>\n",
       "      <td>2024-09-04 14:43:40</td>\n",
       "      <td>2</td>\n",
       "      <td>Have the same professor! And in lecture he did say we were gonna have to learn some of the stuff ourself \\r\\n\\r\\nI would recommend using online resources such as Paul’s Online Math Notes and Professor Leonard on YouTube. Personally, I’ve been learning the material from those sources before going to lecture</td>\n",
       "      <td>zhen3441</td>\n",
       "      <td>2</td>\n",
       "      <td>1</td>\n",
       "    </tr>\n",
       "    <tr>\n",
       "      <th>1</th>\n",
       "      <td>1</td>\n",
       "      <td>2024-09-04 14:43:40</td>\n",
       "      <td>2</td>\n",
       "      <td>Do you find it helpful to still go to the lecture? It seems to me that his slides are embedded with mistakes here and there. It makes it more confusing for me to understand him.</td>\n",
       "      <td>Kai2747</td>\n",
       "      <td>1</td>\n",
       "      <td>1</td>\n",
       "    </tr>\n",
       "    <tr>\n",
       "      <th>2</th>\n",
       "      <td>2</td>\n",
       "      <td>2024-09-04 12:52:08</td>\n",
       "      <td>3</td>\n",
       "      <td>Have you tried emailing University Housing to request access?</td>\n",
       "      <td>TurboBKTastic</td>\n",
       "      <td>2</td>\n",
       "      <td>1</td>\n",
       "    </tr>\n",
       "    <tr>\n",
       "      <th>3</th>\n",
       "      <td>3</td>\n",
       "      <td>2024-09-04 12:52:08</td>\n",
       "      <td>3</td>\n",
       "      <td>Purchasing Illini Cash should get you added to the Non-Resident Meal Plan card access level. These **generally** allow you access to whatever is considered the \"front door\" of the residence hall with access to the dining hall.\\r\\n\\r\\nAt PAR, that would be the doors facing the bus stop on the south side of the building. Only the mag stripe reader will work, prox access in (most) of the residence halls is currently only activated for residents with ADA needs.</td>\n",
       "      <td>HoosierCAB</td>\n",
       "      <td>2</td>\n",
       "      <td>1</td>\n",
       "    </tr>\n",
       "    <tr>\n",
       "      <th>4</th>\n",
       "      <td>4</td>\n",
       "      <td>2024-09-04 12:52:08</td>\n",
       "      <td>3</td>\n",
       "      <td>Just did, thanks for the suggestion! It hadn't occurred to me to do that.</td>\n",
       "      <td>Sector-Both</td>\n",
       "      <td>1</td>\n",
       "      <td>1</td>\n",
       "    </tr>\n",
       "    <tr>\n",
       "      <th>...</th>\n",
       "      <td>...</td>\n",
       "      <td>...</td>\n",
       "      <td>...</td>\n",
       "      <td>...</td>\n",
       "      <td>...</td>\n",
       "      <td>...</td>\n",
       "      <td>...</td>\n",
       "    </tr>\n",
       "    <tr>\n",
       "      <th>2702</th>\n",
       "      <td>2702</td>\n",
       "      <td>2024-08-24 21:56:01</td>\n",
       "      <td>1</td>\n",
       "      <td>Very disorganized, condescending staff and imo some of the staff doesn’t know how to answer questions so that makes me think they don’t really know the subject well. Staff makes too many mistakes on the homework and exams and they take for ever to respond on piazza and make a correction. By the time it was time to take finals, I swear to you the professor dreaded seeing my post and “error on final exam” or something like that because he would respond within 10 minutes than taking an entire week to respond. The final was curved like 15 points because there was way too much confusion on the final and regrade requests were turned off.</td>\n",
       "      <td>Sea_Ride456</td>\n",
       "      <td>1</td>\n",
       "      <td>0</td>\n",
       "    </tr>\n",
       "    <tr>\n",
       "      <th>1549</th>\n",
       "      <td>1549</td>\n",
       "      <td>2024-08-28 13:15:33</td>\n",
       "      <td>31</td>\n",
       "      <td>Turn it into DPSS or the front desk of the building. Pierpont should have an Mcard office</td>\n",
       "      <td>No-Emu2804</td>\n",
       "      <td>37</td>\n",
       "      <td>0</td>\n",
       "    </tr>\n",
       "    <tr>\n",
       "      <th>1742</th>\n",
       "      <td>1742</td>\n",
       "      <td>2024-08-27 23:13:02</td>\n",
       "      <td>202</td>\n",
       "      <td>And trying to draw an equivalency between not stopping a domestic holocaust and being annoyed with 20-year-olds LARPing on the Diag over a completely negligible facet (divestment) of a larger geopolitical issue which they have no power to actually influence tells you how delusional college activists are.</td>\n",
       "      <td>MourningCocktails</td>\n",
       "      <td>16</td>\n",
       "      <td>0</td>\n",
       "    </tr>\n",
       "    <tr>\n",
       "      <th>5469</th>\n",
       "      <td>5469</td>\n",
       "      <td>2024-07-30 02:34:35</td>\n",
       "      <td>6</td>\n",
       "      <td>They said they're doing interviews till last Thursday. Have u heard back?</td>\n",
       "      <td>forever_fiftyone</td>\n",
       "      <td>1</td>\n",
       "      <td>0</td>\n",
       "    </tr>\n",
       "    <tr>\n",
       "      <th>4116</th>\n",
       "      <td>4116</td>\n",
       "      <td>2024-08-13 02:46:22</td>\n",
       "      <td>3</td>\n",
       "      <td>Not that hard, I think they award more than one per session. I got one and I’m confident it was more my ability to discuss my work than the work itself.</td>\n",
       "      <td>crwster</td>\n",
       "      <td>3</td>\n",
       "      <td>0</td>\n",
       "    </tr>\n",
       "  </tbody>\n",
       "</table>\n",
       "<p>9450 rows × 7 columns</p>\n",
       "</div>"
      ],
      "text/plain": [
       "      Unnamed: 0                 date  post_votes  \\\n",
       "0              0  2024-09-04 14:43:40           2   \n",
       "1              1  2024-09-04 14:43:40           2   \n",
       "2              2  2024-09-04 12:52:08           3   \n",
       "3              3  2024-09-04 12:52:08           3   \n",
       "4              4  2024-09-04 12:52:08           3   \n",
       "...          ...                  ...         ...   \n",
       "2702        2702  2024-08-24 21:56:01           1   \n",
       "1549        1549  2024-08-28 13:15:33          31   \n",
       "1742        1742  2024-08-27 23:13:02         202   \n",
       "5469        5469  2024-07-30 02:34:35           6   \n",
       "4116        4116  2024-08-13 02:46:22           3   \n",
       "\n",
       "                                                                                                                                                                                                                                                                                                                                                                                                                                                                                                                                                                                                                                                                 text  \\\n",
       "0                                                                                                                                                                                                                                                                                                                                                 Have the same professor! And in lecture he did say we were gonna have to learn some of the stuff ourself \\r\\n\\r\\nI would recommend using online resources such as Paul’s Online Math Notes and Professor Leonard on YouTube. Personally, I’ve been learning the material from those sources before going to lecture   \n",
       "1                                                                                                                                                                                                                                                                                                                                                                                                                                                                                   Do you find it helpful to still go to the lecture? It seems to me that his slides are embedded with mistakes here and there. It makes it more confusing for me to understand him.   \n",
       "2                                                                                                                                                                                                                                                                                                                                                                                                                                                                                                                                                                                                       Have you tried emailing University Housing to request access?   \n",
       "3                                                                                                                                                                                       Purchasing Illini Cash should get you added to the Non-Resident Meal Plan card access level. These **generally** allow you access to whatever is considered the \"front door\" of the residence hall with access to the dining hall.\\r\\n\\r\\nAt PAR, that would be the doors facing the bus stop on the south side of the building. Only the mag stripe reader will work, prox access in (most) of the residence halls is currently only activated for residents with ADA needs.   \n",
       "4                                                                                                                                                                                                                                                                                                                                                                                                                                                                                                                                                                                           Just did, thanks for the suggestion! It hadn't occurred to me to do that.   \n",
       "...                                                                                                                                                                                                                                                                                                                                                                                                                                                                                                                                                                                                                                                               ...   \n",
       "2702  Very disorganized, condescending staff and imo some of the staff doesn’t know how to answer questions so that makes me think they don’t really know the subject well. Staff makes too many mistakes on the homework and exams and they take for ever to respond on piazza and make a correction. By the time it was time to take finals, I swear to you the professor dreaded seeing my post and “error on final exam” or something like that because he would respond within 10 minutes than taking an entire week to respond. The final was curved like 15 points because there was way too much confusion on the final and regrade requests were turned off.   \n",
       "1549                                                                                                                                                                                                                                                                                                                                                                                                                                                                                                                                                                        Turn it into DPSS or the front desk of the building. Pierpont should have an Mcard office   \n",
       "1742                                                                                                                                                                                                                                                                                                                                                And trying to draw an equivalency between not stopping a domestic holocaust and being annoyed with 20-year-olds LARPing on the Diag over a completely negligible facet (divestment) of a larger geopolitical issue which they have no power to actually influence tells you how delusional college activists are.   \n",
       "5469                                                                                                                                                                                                                                                                                                                                                                                                                                                                                                                                                                                        They said they're doing interviews till last Thursday. Have u heard back?   \n",
       "4116                                                                                                                                                                                                                                                                                                                                                                                                                                                                                                         Not that hard, I think they award more than one per session. I got one and I’m confident it was more my ability to discuss my work than the work itself.   \n",
       "\n",
       "                   user  com_votes  label  \n",
       "0              zhen3441          2      1  \n",
       "1               Kai2747          1      1  \n",
       "2         TurboBKTastic          2      1  \n",
       "3            HoosierCAB          2      1  \n",
       "4           Sector-Both          1      1  \n",
       "...                 ...        ...    ...  \n",
       "2702        Sea_Ride456          1      0  \n",
       "1549         No-Emu2804         37      0  \n",
       "1742  MourningCocktails         16      0  \n",
       "5469   forever_fiftyone          1      0  \n",
       "4116            crwster          3      0  \n",
       "\n",
       "[9450 rows x 7 columns]"
      ]
     },
     "execution_count": 110,
     "metadata": {},
     "output_type": "execute_result"
    }
   ],
   "source": [
    "data"
   ]
  },
  {
   "cell_type": "code",
   "execution_count": 112,
   "metadata": {},
   "outputs": [],
   "source": [
    "data['cleaned_text'] = data['text'].apply(clean)"
   ]
  },
  {
   "cell_type": "code",
   "execution_count": 113,
   "metadata": {},
   "outputs": [
    {
     "data": {
      "text/plain": [
       "0    have the same professor and in lecture he did say we were gonna have to learn some of the stuff ourself i would recommend using online resources such as pauls online math notes and professor leonard on youtube personally ive been learning the material from those sources before going to lecture\n",
       "0                                                                                                                                                                                                                                 zingermans has a nice reuben pretty pricey but the sammies are pretty big\n",
       "Name: cleaned_text, dtype: object"
      ]
     },
     "execution_count": 113,
     "metadata": {},
     "output_type": "execute_result"
    }
   ],
   "source": [
    "data[\"cleaned_text\"][0]"
   ]
  },
  {
   "cell_type": "code",
   "execution_count": 114,
   "metadata": {},
   "outputs": [
    {
     "data": {
      "text/plain": [
       "0    1\n",
       "0    0\n",
       "Name: label, dtype: int64"
      ]
     },
     "execution_count": 114,
     "metadata": {},
     "output_type": "execute_result"
    }
   ],
   "source": [
    "data[\"label\"][0]"
   ]
  },
  {
   "cell_type": "code",
   "execution_count": 115,
   "metadata": {},
   "outputs": [
    {
     "data": {
      "text/plain": [
       "label\n",
       "1    4725\n",
       "0    4725\n",
       "Name: count, dtype: int64"
      ]
     },
     "execution_count": 115,
     "metadata": {},
     "output_type": "execute_result"
    }
   ],
   "source": [
    "data[\"label\"].value_counts()"
   ]
  },
  {
   "cell_type": "code",
   "execution_count": 116,
   "metadata": {},
   "outputs": [],
   "source": [
    "def lemmatize(text):\n",
    "\n",
    "   doc = language_model(text)\n",
    "\n",
    "   tokens = [token.lemma_ for token in doc if not (token.is_stop or token.is_punct)]\n",
    "\n",
    "   return ' '.join(tokens)"
   ]
  },
  {
   "cell_type": "code",
   "execution_count": 117,
   "metadata": {},
   "outputs": [],
   "source": [
    "data['lemmatized_text'] = data['cleaned_text'].apply(lemmatize)"
   ]
  },
  {
   "cell_type": "code",
   "execution_count": 119,
   "metadata": {},
   "outputs": [],
   "source": [
    "vectorizer = CountVectorizer()\n",
    "bag_of_wordsdata = vectorizer.fit_transform(data['cleaned_text'])"
   ]
  },
  {
   "cell_type": "code",
   "execution_count": 120,
   "metadata": {},
   "outputs": [
    {
     "data": {
      "text/plain": [
       "<9450x15967 sparse matrix of type '<class 'numpy.int64'>'\n",
       "\twith 222806 stored elements in Compressed Sparse Row format>"
      ]
     },
     "execution_count": 120,
     "metadata": {},
     "output_type": "execute_result"
    }
   ],
   "source": [
    "bag_of_wordsdata"
   ]
  },
  {
   "cell_type": "code",
   "execution_count": 121,
   "metadata": {},
   "outputs": [
    {
     "name": "stdout",
     "output_type": "stream",
     "text": [
      "Index(['Unnamed: 0', 'date', 'post_votes', 'text', 'user', 'com_votes',\n",
      "       'label', 'cleaned_text', 'lemmatized_text'],\n",
      "      dtype='object')\n"
     ]
    }
   ],
   "source": [
    "column_names = data.columns \n",
    "print(column_names)"
   ]
  },
  {
   "cell_type": "code",
   "execution_count": null,
   "metadata": {},
   "outputs": [
    {
     "data": {
      "text/plain": [
       "0.6984126984126984"
      ]
     },
     "execution_count": 123,
     "metadata": {},
     "output_type": "execute_result"
    }
   ],
   "source": [
    "from sklearn.feature_extraction.text import CountVectorizer\n",
    "from sklearn.model_selection import train_test_split\n",
    "from sklearn.linear_model import LogisticRegression\n",
    "from sklearn.metrics import accuracy_score\n",
    "\n",
    "vectorizer = CountVectorizer(min_df=3, max_df=0.3,)\n",
    "X = vectorizer.fit_transform(data[\"cleaned_text\"])\n",
    "\n",
    "y = data[\"label\"]\n",
    "\n",
    "X_train, X_test, y_train, y_test = train_test_split(X, y, test_size=0.2, random_state=42)\n",
    "\n",
    "model = LogisticRegression(max_iter=1000)\n",
    "model.fit(X_train, y_train)\n",
    "\n",
    "y_pred = model.predict(X_test)\n",
    "\n",
    "test_accuracy = accuracy_score(y_test, y_pred)\n",
    "test_accuracy"
   ]
  },
  {
   "cell_type": "code",
   "execution_count": 124,
   "metadata": {},
   "outputs": [],
   "source": [
    "#report the accuracy of the model"
   ]
  },
  {
   "cell_type": "markdown",
   "metadata": {},
   "source": [
    "This model is fairly accurate as it is about 69% accurate. However, it is not completely accurate and there is definetely room for improvement. "
   ]
  },
  {
   "cell_type": "markdown",
   "metadata": {},
   "source": [
    "#### Part 2: hold out part of the dataset using sklearn train_test_split (https://scikit-learn.org/stable/modules/generated/sklearn.model_selection.train_test_split.html). Pass in your previously generated bag of words as X and the label column as y. Use only the X_train and y_train for training and hold out the X_test and y_test to score the model on unseen data."
   ]
  },
  {
   "cell_type": "markdown",
   "metadata": {},
   "source": [
    "**I used ChatGPT to help with the last two instructions of this code."
   ]
  },
  {
   "cell_type": "code",
   "execution_count": 173,
   "metadata": {},
   "outputs": [
    {
     "name": "stdout",
     "output_type": "stream",
     "text": [
      "Training Accuracy: 0.8965608465608466\n"
     ]
    }
   ],
   "source": [
    "\n",
    "from sklearn.feature_extraction.text import CountVectorizer\n",
    "from sklearn.model_selection import train_test_split\n",
    "from sklearn.linear_model import LogisticRegression\n",
    "from sklearn.metrics import accuracy_score\n",
    "\n",
    "\n",
    "vectorizer = CountVectorizer(min_df=3, max_df=0.3,)\n",
    "X = vectorizer.fit_transform(data[\"cleaned_text\"])\n",
    "\n",
    "\n",
    "y = data[\"label\"]\n",
    "\n",
    "\n",
    "X_train, X_test, y_train, y_test = train_test_split(X, y, test_size=0.2, random_state=42)\n",
    "\n",
    "\n",
    "model = LogisticRegression(max_iter=1000)\n",
    "model.fit(X_train, y_train)\n",
    "\n",
    "y_train_pred = model.predict(X_train)\n",
    "\n",
    "train_accuracy = accuracy_score(y_train, y_train_pred)\n",
    "print(\"Training Accuracy:\", train_accuracy)"
   ]
  },
  {
   "cell_type": "code",
   "execution_count": 126,
   "metadata": {},
   "outputs": [],
   "source": [
    "# what is the accuracy of the model? Is it better or worse than previous?Why do you think it has changed? "
   ]
  },
  {
   "cell_type": "markdown",
   "metadata": {},
   "source": [
    "The accuracy of this training model is much better than above as it is has about a 90% accuracy compared to the 69% accuracy of the test accuracy model. This makes sense because this model has been trained on this data, therefore we would expect it to make less errors due to familiarity. The accuracy of the test model above was much less than the accuracy of the training model due to the fact that the test model was being tested on unseen data which it has not encountered in the training process. "
   ]
  },
  {
   "cell_type": "markdown",
   "metadata": {},
   "source": [
    "#### Part 3: Examine the top features of your model using the following code"
   ]
  },
  {
   "cell_type": "code",
   "execution_count": 127,
   "metadata": {},
   "outputs": [],
   "source": [
    "#get the coefficients of the model and plot the top 10 most positive and top 10 most negative coefficients\n",
    "#what do you notice about these words? Are they surprising or expected?\n"
   ]
  },
  {
   "cell_type": "markdown",
   "metadata": {},
   "source": [
    "*ChatGPT helped me with the feature_names line of this code."
   ]
  },
  {
   "cell_type": "code",
   "execution_count": 128,
   "metadata": {},
   "outputs": [
    {
     "name": "stdout",
     "output_type": "stream",
     "text": [
      "Top 10 Positive Coefficients:\n",
      "        feature  coefficient\n",
      "5448       uiuc     2.885382\n",
      "2526   illinois     2.417929\n",
      "5534     urbana     2.044480\n",
      "4441       rsos     2.035319\n",
      "2841        las     2.021705\n",
      "2210   grainger     1.974770\n",
      "820   champaign     1.956772\n",
      "2525     illini     1.691017\n",
      "3137   mckinley     1.606415\n",
      "1240   danville     1.576771\n",
      "Top 10 Negative Coefficients:\n",
      "       feature  coefficient\n",
      "5452        um    -1.625893\n",
      "1590      eecs    -1.786184\n",
      "1369      diag    -1.787282\n",
      "3133     mcard    -1.831290\n",
      "5655  waitlist    -1.850937\n",
      "5196     texas    -2.011158\n",
      "805    central    -2.066824\n",
      "2051    fresno    -2.328806\n",
      "5455     umich    -2.537659\n",
      "3206  michigan    -2.960034\n"
     ]
    }
   ],
   "source": [
    "feature_names = vectorizer.get_feature_names_out()\n",
    "\n",
    "coefficients = pd.DataFrame({'feature': feature_names, 'coefficient': model.coef_[0]})\n",
    "coefficients = coefficients.sort_values('coefficient', ascending=False)\n",
    "top_10_positive = coefficients.head(10)\n",
    "top_10_negative = coefficients.tail(10)\n",
    "top_10_positive = pd.DataFrame(top_10_positive)\n",
    "top_10_negative = pd.DataFrame(top_10_negative)\n",
    "print (\"Top 10 Positive Coefficients:\")\n",
    "print (top_10_positive)\n",
    "print (\"Top 10 Negative Coefficients:\")\n",
    "print (top_10_negative)"
   ]
  },
  {
   "cell_type": "code",
   "execution_count": 129,
   "metadata": {},
   "outputs": [],
   "source": [
    "#examine these words and see if they make sense. Do they differentiate UIUC from another university?"
   ]
  },
  {
   "cell_type": "markdown",
   "metadata": {},
   "source": [
    "After looking at the top 10 most positive and top 10 most negative words, the list did in fact make sense. The positive list, which matched to UIUC words, makes sense as it contains words such as \"uiuc,\" \"grainger,\" and \"danville\" while the negative list, which matched to UMich words, contained words such as \"texas,\" \"michigan,\" and \"umich.\" Therefore, this model seemed to accurately differentiate UIUC words from UMich words."
   ]
  },
  {
   "cell_type": "markdown",
   "metadata": {},
   "source": [
    "### Problem 4: Train a 10 topic topic model from the UIUC subreddit data using Gensim LDA. (https://radimrehurek.com/gensim/auto_examples/tutorials/run_lda.html) If you get here before Wednesday 9/11, don't rush to finish, but feel free to continue ahead. We will go through this in class. Print out the top words in each topic, and read through the words for each topic to decide the theme of the topic: remember this is subjective and there are no right or wrong answers. Print out a few comments with high frequencies of each topic and analyze if your topic labels were representative. "
   ]
  },
  {
   "cell_type": "code",
   "execution_count": 130,
   "metadata": {},
   "outputs": [
    {
     "name": "stdout",
     "output_type": "stream",
     "text": [
      "Requirement already satisfied: gensim in c:\\users\\denoyer2\\anaconda\\envs\\is310\\lib\\site-packages (4.3.3)\n",
      "Requirement already satisfied: numpy<2.0,>=1.18.5 in c:\\users\\denoyer2\\anaconda\\envs\\is310\\lib\\site-packages (from gensim) (1.26.4)\n",
      "Requirement already satisfied: scipy<1.14.0,>=1.7.0 in c:\\users\\denoyer2\\anaconda\\envs\\is310\\lib\\site-packages (from gensim) (1.13.1)\n",
      "Requirement already satisfied: smart-open>=1.8.1 in c:\\users\\denoyer2\\anaconda\\envs\\is310\\lib\\site-packages (from gensim) (7.1.0)\n",
      "Requirement already satisfied: wrapt in c:\\users\\denoyer2\\anaconda\\envs\\is310\\lib\\site-packages (from smart-open>=1.8.1->gensim) (1.17.2)\n"
     ]
    }
   ],
   "source": [
    "!pip install gensim"
   ]
  },
  {
   "cell_type": "code",
   "execution_count": 201,
   "metadata": {},
   "outputs": [],
   "source": [
    "from gensim import corpora\n",
    "from gensim.models import LdaModel\n",
    "from gensim.matutils import Sparse2Corpus\n",
    "corpus = Sparse2Corpus(bag_of_words, documents_columns=False)\n",
    "id2word = dict((v, k) for k, v in vectorizer.vocabulary_.items())"
   ]
  },
  {
   "cell_type": "code",
   "execution_count": 202,
   "metadata": {},
   "outputs": [
    {
     "data": {
      "text/plain": [
       "<gensim.matutils.Sparse2Corpus at 0x1c414dc11f0>"
      ]
     },
     "execution_count": 202,
     "metadata": {},
     "output_type": "execute_result"
    }
   ],
   "source": [
    "corpus"
   ]
  },
  {
   "cell_type": "code",
   "execution_count": 203,
   "metadata": {},
   "outputs": [
    {
     "data": {
      "text/plain": [
       "[(0,\n",
       "  '0.018*\"not\" + 0.017*\"like\" + 0.010*\"good\" + 0.009*\"check\" + 0.009*\"way\" + 0.008*\"go\" + 0.008*\"government\" + 0.008*\"find\" + 0.007*\"year\" + 0.007*\"sound\"'),\n",
       " (1,\n",
       "  '0.045*\"not\" + 0.035*\"water\" + 0.015*\"tap\" + 0.012*\"tap water\" + 0.011*\"good\" + 0.011*\"school\" + 0.008*\"start\" + 0.007*\"people\" + 0.007*\"need\" + 0.006*\"building\"'),\n",
       " (2,\n",
       "  '0.029*\"not\" + 0.014*\"weather\" + 0.013*\"people\" + 0.010*\"find\" + 0.008*\"drink\" + 0.007*\"quad day\" + 0.007*\"know\" + 0.007*\"campus\" + 0.007*\"quad\" + 0.007*\"need\"'),\n",
       " (3,\n",
       "  '0.028*\"not\" + 0.023*\"go\" + 0.013*\"water\" + 0.009*\"know\" + 0.009*\"sorry\" + 0.009*\"time\" + 0.008*\"to\" + 0.008*\"say\" + 0.007*\"go to\" + 0.007*\"good\"'),\n",
       " (4,\n",
       "  '0.025*\"not\" + 0.017*\"class\" + 0.017*\"student\" + 0.016*\"like\" + 0.013*\"friend\" + 0.012*\"year\" + 0.011*\"time\" + 0.010*\"week\" + 0.009*\"think\" + 0.008*\"freshman\"'),\n",
       " (5,\n",
       "  '0.034*\"thank\" + 0.014*\"year\" + 0.012*\"not\" + 0.012*\"good\" + 0.008*\"chinese\" + 0.008*\"pay\" + 0.008*\"want\" + 0.007*\"talk\" + 0.007*\"ago\" + 0.007*\"yeah\"'),\n",
       " (6,\n",
       "  '0.015*\"not\" + 0.011*\"look\" + 0.011*\"like\" + 0.008*\"hard\" + 0.007*\"good\" + 0.007*\"want\" + 0.007*\"try\" + 0.006*\"find\" + 0.006*\"think\" + 0.006*\"walk\"'),\n",
       " (7,\n",
       "  '0.020*\"friend\" + 0.016*\"feel\" + 0.015*\"not\" + 0.014*\"bike\" + 0.012*\"get\" + 0.011*\"bad\" + 0.010*\"people\" + 0.009*\"way\" + 0.008*\"ll\" + 0.007*\"take\"'),\n",
       " (8,\n",
       "  '0.031*\"people\" + 0.016*\"water\" + 0.015*\"not\" + 0.011*\"campus\" + 0.011*\"thing\" + 0.011*\"like\" + 0.011*\"hall\" + 0.008*\"time\" + 0.008*\"pipe\" + 0.008*\"good\"'),\n",
       " (9,\n",
       "  '0.011*\"day\" + 0.010*\"student\" + 0.010*\"not\" + 0.010*\"try\" + 0.010*\"class\" + 0.009*\"fee\" + 0.009*\"sell\" + 0.009*\"time\" + 0.009*\"work\" + 0.008*\"pay\"')]"
      ]
     },
     "execution_count": 203,
     "metadata": {},
     "output_type": "execute_result"
    }
   ],
   "source": [
    "lda_model = LdaModel(corpus=corpus, id2word=id2word, num_topics=10)\n",
    "lda_model.print_topics()"
   ]
  },
  {
   "cell_type": "markdown",
   "metadata": {},
   "source": [
    "*The code above demonstrates 10 different topics identified by the model with the most common words identified for each topic. Although these topics are all different according to the model, it is a bit difficult to discriminate and label these topics. While some topics have some clearer themes such as topic 1 which includes words such as \"tap\" and \"tap water,\" some topics seem a bit ambigious such as topic 8 which contains words such as \"people,\"thing,\" and \"like.\" Most of these topics, however, seem to be about school and contain words that relate to university."
   ]
  },
  {
   "cell_type": "code",
   "execution_count": 204,
   "metadata": {},
   "outputs": [
    {
     "name": "stdout",
     "output_type": "stream",
     "text": [
      "yeah totally fine she was super nice and i think she was a great lecturer but i\n",
      "cant wait for cohen to come back hes the whole reason i took the class\n"
     ]
    }
   ],
   "source": [
    "import pandas as pd\n",
    "import textwrap\n",
    "\n",
    "pd.set_option('display.max_colwidth', None)\n",
    "toprint=uiuc['cleaned_text'][1714]\n",
    "wrapped_string = textwrap.fill(toprint, width=80)\n",
    "print(wrapped_string)"
   ]
  },
  {
   "cell_type": "code",
   "execution_count": 205,
   "metadata": {},
   "outputs": [
    {
     "data": {
      "text/plain": [
       "[(1, 0.18780994), (3, 0.14465524), (4, 0.6286299)]"
      ]
     },
     "execution_count": 205,
     "metadata": {},
     "output_type": "execute_result"
    }
   ],
   "source": [
    "lda_model.get_document_topics(corpus[1714])"
   ]
  },
  {
   "cell_type": "markdown",
   "metadata": {},
   "source": [
    "*The code above demonstrates a topic distrubution from a single review in the UIUC dataset. This comment is most associated with topic 6 which makes sense as it contains words such as \"good,\" indicating a positive topic which does indeed coorelate with this positive comment."
   ]
  },
  {
   "cell_type": "code",
   "execution_count": 206,
   "metadata": {},
   "outputs": [],
   "source": [
    "models=lda_model.get_document_topics(corpus, minimum_probability=0)"
   ]
  },
  {
   "cell_type": "code",
   "execution_count": 207,
   "metadata": {},
   "outputs": [],
   "source": [
    "rows=[]\n",
    "for i in range(len(models)):\n",
    "    row=[]\n",
    "    for m in models[i]:\n",
    "        row.append(m[1])\n",
    "    rows.append(row)\n",
    "\n",
    "topic_df=pd.DataFrame(rows)"
   ]
  },
  {
   "cell_type": "code",
   "execution_count": 208,
   "metadata": {},
   "outputs": [
    {
     "data": {
      "text/html": [
       "<div>\n",
       "<style scoped>\n",
       "    .dataframe tbody tr th:only-of-type {\n",
       "        vertical-align: middle;\n",
       "    }\n",
       "\n",
       "    .dataframe tbody tr th {\n",
       "        vertical-align: top;\n",
       "    }\n",
       "\n",
       "    .dataframe thead th {\n",
       "        text-align: right;\n",
       "    }\n",
       "</style>\n",
       "<table border=\"1\" class=\"dataframe\">\n",
       "  <thead>\n",
       "    <tr style=\"text-align: right;\">\n",
       "      <th></th>\n",
       "      <th>0</th>\n",
       "      <th>1</th>\n",
       "      <th>2</th>\n",
       "      <th>3</th>\n",
       "      <th>4</th>\n",
       "      <th>5</th>\n",
       "      <th>6</th>\n",
       "      <th>7</th>\n",
       "      <th>8</th>\n",
       "      <th>9</th>\n",
       "    </tr>\n",
       "  </thead>\n",
       "  <tbody>\n",
       "    <tr>\n",
       "      <th>710</th>\n",
       "      <td>0.002225</td>\n",
       "      <td>0.002225</td>\n",
       "      <td>0.002226</td>\n",
       "      <td>0.979972</td>\n",
       "      <td>0.002226</td>\n",
       "      <td>0.002225</td>\n",
       "      <td>0.002225</td>\n",
       "      <td>0.002225</td>\n",
       "      <td>0.002225</td>\n",
       "      <td>0.002226</td>\n",
       "    </tr>\n",
       "    <tr>\n",
       "      <th>423</th>\n",
       "      <td>0.002704</td>\n",
       "      <td>0.002703</td>\n",
       "      <td>0.002704</td>\n",
       "      <td>0.975664</td>\n",
       "      <td>0.002704</td>\n",
       "      <td>0.002704</td>\n",
       "      <td>0.002704</td>\n",
       "      <td>0.002704</td>\n",
       "      <td>0.002704</td>\n",
       "      <td>0.002704</td>\n",
       "    </tr>\n",
       "    <tr>\n",
       "      <th>1360</th>\n",
       "      <td>0.003340</td>\n",
       "      <td>0.003342</td>\n",
       "      <td>0.003338</td>\n",
       "      <td>0.969945</td>\n",
       "      <td>0.003338</td>\n",
       "      <td>0.003339</td>\n",
       "      <td>0.003339</td>\n",
       "      <td>0.003340</td>\n",
       "      <td>0.003339</td>\n",
       "      <td>0.003338</td>\n",
       "    </tr>\n",
       "    <tr>\n",
       "      <th>1281</th>\n",
       "      <td>0.003453</td>\n",
       "      <td>0.003454</td>\n",
       "      <td>0.003453</td>\n",
       "      <td>0.968921</td>\n",
       "      <td>0.003454</td>\n",
       "      <td>0.003453</td>\n",
       "      <td>0.003453</td>\n",
       "      <td>0.003454</td>\n",
       "      <td>0.003453</td>\n",
       "      <td>0.003453</td>\n",
       "    </tr>\n",
       "    <tr>\n",
       "      <th>855</th>\n",
       "      <td>0.003576</td>\n",
       "      <td>0.003577</td>\n",
       "      <td>0.003576</td>\n",
       "      <td>0.967812</td>\n",
       "      <td>0.003577</td>\n",
       "      <td>0.003577</td>\n",
       "      <td>0.003577</td>\n",
       "      <td>0.003576</td>\n",
       "      <td>0.003576</td>\n",
       "      <td>0.003577</td>\n",
       "    </tr>\n",
       "    <tr>\n",
       "      <th>...</th>\n",
       "      <td>...</td>\n",
       "      <td>...</td>\n",
       "      <td>...</td>\n",
       "      <td>...</td>\n",
       "      <td>...</td>\n",
       "      <td>...</td>\n",
       "      <td>...</td>\n",
       "      <td>...</td>\n",
       "      <td>...</td>\n",
       "      <td>...</td>\n",
       "    </tr>\n",
       "    <tr>\n",
       "      <th>3763</th>\n",
       "      <td>0.000841</td>\n",
       "      <td>0.000841</td>\n",
       "      <td>0.276074</td>\n",
       "      <td>0.000841</td>\n",
       "      <td>0.219309</td>\n",
       "      <td>0.000841</td>\n",
       "      <td>0.198516</td>\n",
       "      <td>0.033552</td>\n",
       "      <td>0.000841</td>\n",
       "      <td>0.268344</td>\n",
       "    </tr>\n",
       "    <tr>\n",
       "      <th>555</th>\n",
       "      <td>0.021434</td>\n",
       "      <td>0.043799</td>\n",
       "      <td>0.000822</td>\n",
       "      <td>0.000822</td>\n",
       "      <td>0.276534</td>\n",
       "      <td>0.020738</td>\n",
       "      <td>0.098759</td>\n",
       "      <td>0.180494</td>\n",
       "      <td>0.306182</td>\n",
       "      <td>0.050415</td>\n",
       "    </tr>\n",
       "    <tr>\n",
       "      <th>243</th>\n",
       "      <td>0.509749</td>\n",
       "      <td>0.000681</td>\n",
       "      <td>0.082773</td>\n",
       "      <td>0.000681</td>\n",
       "      <td>0.260586</td>\n",
       "      <td>0.000681</td>\n",
       "      <td>0.115085</td>\n",
       "      <td>0.000681</td>\n",
       "      <td>0.028401</td>\n",
       "      <td>0.000681</td>\n",
       "    </tr>\n",
       "    <tr>\n",
       "      <th>1366</th>\n",
       "      <td>0.045933</td>\n",
       "      <td>0.000634</td>\n",
       "      <td>0.000634</td>\n",
       "      <td>0.000634</td>\n",
       "      <td>0.245401</td>\n",
       "      <td>0.034748</td>\n",
       "      <td>0.274718</td>\n",
       "      <td>0.396033</td>\n",
       "      <td>0.000634</td>\n",
       "      <td>0.000634</td>\n",
       "    </tr>\n",
       "    <tr>\n",
       "      <th>899</th>\n",
       "      <td>0.000600</td>\n",
       "      <td>0.158101</td>\n",
       "      <td>0.000600</td>\n",
       "      <td>0.000600</td>\n",
       "      <td>0.293629</td>\n",
       "      <td>0.000600</td>\n",
       "      <td>0.494769</td>\n",
       "      <td>0.000600</td>\n",
       "      <td>0.000600</td>\n",
       "      <td>0.049899</td>\n",
       "    </tr>\n",
       "  </tbody>\n",
       "</table>\n",
       "<p>4725 rows × 10 columns</p>\n",
       "</div>"
      ],
      "text/plain": [
       "             0         1         2         3         4         5         6  \\\n",
       "710   0.002225  0.002225  0.002226  0.979972  0.002226  0.002225  0.002225   \n",
       "423   0.002704  0.002703  0.002704  0.975664  0.002704  0.002704  0.002704   \n",
       "1360  0.003340  0.003342  0.003338  0.969945  0.003338  0.003339  0.003339   \n",
       "1281  0.003453  0.003454  0.003453  0.968921  0.003454  0.003453  0.003453   \n",
       "855   0.003576  0.003577  0.003576  0.967812  0.003577  0.003577  0.003577   \n",
       "...        ...       ...       ...       ...       ...       ...       ...   \n",
       "3763  0.000841  0.000841  0.276074  0.000841  0.219309  0.000841  0.198516   \n",
       "555   0.021434  0.043799  0.000822  0.000822  0.276534  0.020738  0.098759   \n",
       "243   0.509749  0.000681  0.082773  0.000681  0.260586  0.000681  0.115085   \n",
       "1366  0.045933  0.000634  0.000634  0.000634  0.245401  0.034748  0.274718   \n",
       "899   0.000600  0.158101  0.000600  0.000600  0.293629  0.000600  0.494769   \n",
       "\n",
       "             7         8         9  \n",
       "710   0.002225  0.002225  0.002226  \n",
       "423   0.002704  0.002704  0.002704  \n",
       "1360  0.003340  0.003339  0.003338  \n",
       "1281  0.003454  0.003453  0.003453  \n",
       "855   0.003576  0.003576  0.003577  \n",
       "...        ...       ...       ...  \n",
       "3763  0.033552  0.000841  0.268344  \n",
       "555   0.180494  0.306182  0.050415  \n",
       "243   0.000681  0.028401  0.000681  \n",
       "1366  0.396033  0.000634  0.000634  \n",
       "899   0.000600  0.000600  0.049899  \n",
       "\n",
       "[4725 rows x 10 columns]"
      ]
     },
     "execution_count": 208,
     "metadata": {},
     "output_type": "execute_result"
    }
   ],
   "source": [
    "topic_df.sort_values(3, ascending=False)"
   ]
  },
  {
   "cell_type": "code",
   "execution_count": 221,
   "metadata": {},
   "outputs": [
    {
     "name": "stdout",
     "output_type": "stream",
     "text": [
      "im hoping main library parking lot gets this towing treatment saw three cars\n",
      "parked on the side all day where there are no parking spots bmw hyundai and\n",
      "toyota something they got tickets and another parked right next to the disabled\n",
      "parking spot effectively making it unusable\n"
     ]
    }
   ],
   "source": [
    "import textwrap\n",
    "\n",
    "pd.set_option('display.max_colwidth', None)\n",
    "toprint=uiuc[\"cleaned_text\"][1510]\n",
    "wrapped_string = textwrap.fill(toprint, width=80)\n",
    "print(wrapped_string)"
   ]
  },
  {
   "cell_type": "code",
   "execution_count": 222,
   "metadata": {},
   "outputs": [
    {
     "data": {
      "text/plain": [
       "[(0, 0.3709542),\n",
       " (1, 0.003339126),\n",
       " (2, 0.0033393828),\n",
       " (3, 0.0033383453),\n",
       " (4, 0.0033385344),\n",
       " (5, 0.0033384063),\n",
       " (6, 0.00333899),\n",
       " (7, 0.571145),\n",
       " (8, 0.003338668),\n",
       " (9, 0.034529366)]"
      ]
     },
     "execution_count": 222,
     "metadata": {},
     "output_type": "execute_result"
    }
   ],
   "source": [
    "lda_model.get_document_topics(corpus[1510])"
   ]
  },
  {
   "cell_type": "markdown",
   "metadata": {},
   "source": [
    "**The above comment is most associated with topic 7 which did make sense to me as topic 7 includes words such as \"not,\" \"bike,\" and \"bad\" which all seem to coorelate with this individual not being able to find parking. "
   ]
  },
  {
   "cell_type": "markdown",
   "metadata": {},
   "source": [
    "Overall, because this is such a small dataset, I found the top words for each topic from this dataset were not very informative, making it slightly difficult to place each reddit comment from the UIUC subreddit into a specific category."
   ]
  }
 ],
 "metadata": {
  "kernelspec": {
   "display_name": "is310",
   "language": "python",
   "name": "python3"
  },
  "language_info": {
   "codemirror_mode": {
    "name": "ipython",
    "version": 3
   },
   "file_extension": ".py",
   "mimetype": "text/x-python",
   "name": "python",
   "nbconvert_exporter": "python",
   "pygments_lexer": "ipython3",
   "version": "3.9.21"
  }
 },
 "nbformat": 4,
 "nbformat_minor": 2
}
